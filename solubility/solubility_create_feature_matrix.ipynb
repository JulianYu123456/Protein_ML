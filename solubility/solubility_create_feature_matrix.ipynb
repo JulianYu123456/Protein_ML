{
 "cells": [
  {
   "cell_type": "markdown",
   "metadata": {},
   "source": [
    "# Create Feature Matrix\n",
    "This is a shortened version of the feature construction notebook designed for the limited solubility dataset."
   ]
  },
  {
   "cell_type": "code",
   "execution_count": 1,
   "metadata": {
    "collapsed": true
   },
   "outputs": [],
   "source": [
    "%matplotlib inline\n",
    "import pandas as pd\n",
    "import matplotlib as plt\n",
    "import numpy as np\n",
    "import os\n",
    "import sys\n",
    "import re\n",
    "import subprocess\n",
    "import itertools\n",
    "from tqdm import tqdm\n",
    "from Bio.Seq import Seq\n",
    "from Bio.SeqRecord import SeqRecord\n",
    "from Bio import SeqIO"
   ]
  },
  {
   "cell_type": "code",
   "execution_count": 2,
   "metadata": {
    "collapsed": false
   },
   "outputs": [],
   "source": [
    "# ROOT_DIR - root directory\n",
    "ROOT_DIR = os.getcwd()+'/'"
   ]
  },
  {
   "cell_type": "markdown",
   "metadata": {},
   "source": [
    "# Table of Contents"
   ]
  },
  {
   "cell_type": "markdown",
   "metadata": {},
   "source": [
    "1. [Initialize Data](#Initialize-Data)\n",
    "2. [Generate Features](#Generate-Features)\n",
    "    1. [Physical Properties](#Physical-Properties)\n"
   ]
  },
  {
   "cell_type": "markdown",
   "metadata": {},
   "source": [
    "# Initialize Data \n",
    "[Back to Top](#Table-of-Contents)"
   ]
  },
  {
   "cell_type": "code",
   "execution_count": 3,
   "metadata": {
    "collapsed": false,
    "scrolled": true
   },
   "outputs": [
    {
     "name": "stdout",
     "output_type": "stream",
     "text": [
      "Number of entries: 16082\n"
     ]
    },
    {
     "data": {
      "text/html": [
       "<div>\n",
       "<table border=\"1\" class=\"dataframe\">\n",
       "  <thead>\n",
       "    <tr style=\"text-align: right;\">\n",
       "      <th></th>\n",
       "      <th>pf_cultivation_id</th>\n",
       "      <th>prest_id</th>\n",
       "      <th>aa_seq</th>\n",
       "      <th>solubility_class_1M</th>\n",
       "    </tr>\n",
       "  </thead>\n",
       "  <tbody>\n",
       "    <tr>\n",
       "      <th>0</th>\n",
       "      <td>255</td>\n",
       "      <td>230050</td>\n",
       "      <td>QLKGRDLLTLKNFTGEEIKYMLWLSADLKFRIKQKGEYLPLLQGKS...</td>\n",
       "      <td>3.0</td>\n",
       "    </tr>\n",
       "    <tr>\n",
       "      <th>1</th>\n",
       "      <td>263</td>\n",
       "      <td>230548</td>\n",
       "      <td>LPYAMKPIDYYTETKILQERAVLGANDPEKNFLTTAIRPHGIFGPR...</td>\n",
       "      <td>2.0</td>\n",
       "    </tr>\n",
       "    <tr>\n",
       "      <th>2</th>\n",
       "      <td>364</td>\n",
       "      <td>231390</td>\n",
       "      <td>IAELGVPLSQVKSISGTAQDGNTEPLPPDSGDKNLVIQKSKDEAQD...</td>\n",
       "      <td>5.0</td>\n",
       "    </tr>\n",
       "    <tr>\n",
       "      <th>3</th>\n",
       "      <td>441</td>\n",
       "      <td>230501</td>\n",
       "      <td>SDSDVGSGGIRPKQPRMLQENTRMDMENEESMMSYEGDGGEASHGL...</td>\n",
       "      <td>5.0</td>\n",
       "    </tr>\n",
       "    <tr>\n",
       "      <th>4</th>\n",
       "      <td>521</td>\n",
       "      <td>140193</td>\n",
       "      <td>HPAYNPKNFSNDIMLLQLERKAKWTTAVRPLRLPSSKAQVKPGQLC...</td>\n",
       "      <td>4.5</td>\n",
       "    </tr>\n",
       "  </tbody>\n",
       "</table>\n",
       "</div>"
      ],
      "text/plain": [
       "   pf_cultivation_id  prest_id  \\\n",
       "0                255    230050   \n",
       "1                263    230548   \n",
       "2                364    231390   \n",
       "3                441    230501   \n",
       "4                521    140193   \n",
       "\n",
       "                                              aa_seq  solubility_class_1M  \n",
       "0  QLKGRDLLTLKNFTGEEIKYMLWLSADLKFRIKQKGEYLPLLQGKS...                  3.0  \n",
       "1  LPYAMKPIDYYTETKILQERAVLGANDPEKNFLTTAIRPHGIFGPR...                  2.0  \n",
       "2  IAELGVPLSQVKSISGTAQDGNTEPLPPDSGDKNLVIQKSKDEAQD...                  5.0  \n",
       "3  SDSDVGSGGIRPKQPRMLQENTRMDMENEESMMSYEGDGGEASHGL...                  5.0  \n",
       "4  HPAYNPKNFSNDIMLLQLERKAKWTTAVRPLRLPSSKAQVKPGQLC...                  4.5  "
      ]
     },
     "execution_count": 3,
     "metadata": {},
     "output_type": "execute_result"
    }
   ],
   "source": [
    "prest_file = ROOT_DIR+'DF_solubility.csv'\n",
    "DF_raw_prest = pd.read_csv(prest_file,index_col=0)\n",
    "print 'Number of entries:', len(DF_raw_prest)\n",
    "DF_raw_prest.head()"
   ]
  },
  {
   "cell_type": "markdown",
   "metadata": {},
   "source": [
    "# Generate Features\n",
    "[Back to Top](#Table-of-Contents)"
   ]
  },
  {
   "cell_type": "markdown",
   "metadata": {},
   "source": [
    "## Physical Properties\n",
    "[Back to Top](#Table-of-Contents)"
   ]
  },
  {
   "cell_type": "code",
   "execution_count": 4,
   "metadata": {
    "collapsed": true
   },
   "outputs": [],
   "source": [
    "DF_physical_features = pd.read_csv(ROOT_DIR+'DF_solubility.csv',index_col=0)"
   ]
  },
  {
   "cell_type": "markdown",
   "metadata": {},
   "source": [
    "The BioPython ProtParam quickly calculates many physical properties for any peptide"
   ]
  },
  {
   "cell_type": "code",
   "execution_count": 5,
   "metadata": {
    "collapsed": false
   },
   "outputs": [
    {
     "name": "stderr",
     "output_type": "stream",
     "text": [
      "100%|██████████| 16082/16082 [00:05<00:00, 3190.63it/s]\n"
     ]
    }
   ],
   "source": [
    "from Bio.SeqUtils import ProtParam\n",
    "\n",
    "mw = []\n",
    "pI= []\n",
    "arom = []\n",
    "instab = []\n",
    "gravy = []\n",
    "for seq in tqdm(DF_physical_features.aa_seq):\n",
    "    data = ProtParam.ProteinAnalysis(seq)\n",
    "    mw.append(data.molecular_weight())\n",
    "    pI.append(data.isoelectric_point())\n",
    "    arom.append(data.aromaticity())\n",
    "    instab.append(data.instability_index())\n",
    "    gravy.append(data.gravy())\n",
    "    \n",
    "DF_physical_features['bio_pI'] = pI\n",
    "DF_physical_features['bio_mW'] = mw\n",
    "DF_physical_features['bio_aromaticity'] = arom\n",
    "DF_physical_features['bio_instability'] = instab\n",
    "DF_physical_features['bio_gravy'] = gravy"
   ]
  },
  {
   "cell_type": "markdown",
   "metadata": {},
   "source": [
    "Get the counts of each amino acid"
   ]
  },
  {
   "cell_type": "code",
   "execution_count": 6,
   "metadata": {
    "collapsed": true
   },
   "outputs": [],
   "source": [
    "amino_acids = 'ARNDCQEGHILKMFPSTWYV'\n",
    "counts = [[np.true_divide(seq.count(aa),len(seq)) for seq in DF_physical_features.aa_seq] for aa in amino_acids]\n",
    "for i in range(len(amino_acids)):\n",
    "    DF_physical_features['list_comp_'+amino_acids[i]] = counts[i]"
   ]
  },
  {
   "cell_type": "markdown",
   "metadata": {},
   "source": [
    "Calculate the charge of each prEST"
   ]
  },
  {
   "cell_type": "code",
   "execution_count": 7,
   "metadata": {
    "collapsed": true
   },
   "outputs": [],
   "source": [
    "DF_physical_features['charge'] = [seq.count('K')+seq.count('R')-seq.count('D')-seq.count('E') for seq in DF_physical_features.aa_seq]\n",
    "DF_physical_features['abs_charge']=abs(DF_physical_features['charge'])\n",
    "DF_physical_features['avg_charge']=np.true_divide(DF_physical_features['charge'],[len(seq) for seq in DF_physical_features['aa_seq']])\n",
    "DF_physical_features['abs_avg_charge'] = abs(DF_physical_features['avg_charge'])"
   ]
  },
  {
   "cell_type": "markdown",
   "metadata": {},
   "source": [
    "Calculate the presence of various amino acid types"
   ]
  },
  {
   "cell_type": "code",
   "execution_count": 8,
   "metadata": {
    "collapsed": true
   },
   "outputs": [],
   "source": [
    "DF_physical_features['frac_aliphatic'] = sum([DF_physical_features['list_comp_'+aa] for aa in 'AGILPV'])\n",
    "DF_physical_features['frac_aromatic'] = sum([DF_physical_features['list_comp_'+aa] for aa in 'FWY'])\n",
    "DF_physical_features['frac_uncharged_polar'] = sum([DF_physical_features['list_comp_'+aa] for aa in 'STNQ'])\n",
    "DF_physical_features['frac_polar'] = sum([DF_physical_features['list_comp_'+aa] for aa in 'QNHSTYCMW'])\n",
    "DF_physical_features['frac_hydrophobic'] = sum([DF_physical_features['list_comp_'+aa] for aa in 'AGILPVF'])\n",
    "DF_physical_features['frac_positive'] = sum([DF_physical_features['list_comp_'+aa] for aa in 'HKR'])\n",
    "DF_physical_features['frac_sulfur'] = sum([DF_physical_features['list_comp_'+aa] for aa in 'CM'])\n",
    "DF_physical_features['frac_negative'] = sum([DF_physical_features['list_comp_'+aa] for aa in 'DE'])\n",
    "DF_physical_features['frac_amide'] = sum([DF_physical_features['list_comp_'+aa] for aa in 'NQ'])\n",
    "DF_physical_features['frac_alcohol'] = sum([DF_physical_features['list_comp_'+aa] for aa in 'ST'])"
   ]
  },
  {
   "cell_type": "markdown",
   "metadata": {},
   "source": [
    "Get length of peptides"
   ]
  },
  {
   "cell_type": "code",
   "execution_count": 9,
   "metadata": {
    "collapsed": true
   },
   "outputs": [],
   "source": [
    "DF_physical_features['aa_len'] = [len(seq) for seq in DF_physical_features.aa_seq]"
   ]
  },
  {
   "cell_type": "code",
   "execution_count": 10,
   "metadata": {
    "collapsed": false
   },
   "outputs": [],
   "source": [
    "DF_physical_features.to_csv(ROOT_DIR+'DF_solubility_features.csv')"
   ]
  }
 ],
 "metadata": {
  "kernelspec": {
   "display_name": "Python 2",
   "language": "python",
   "name": "python2"
  },
  "language_info": {
   "codemirror_mode": {
    "name": "ipython",
    "version": 2
   },
   "file_extension": ".py",
   "mimetype": "text/x-python",
   "name": "python",
   "nbconvert_exporter": "python",
   "pygments_lexer": "ipython2",
   "version": "2.7.12"
  }
 },
 "nbformat": 4,
 "nbformat_minor": 0
}
