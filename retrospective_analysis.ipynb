{
 "cells": [
  {
   "cell_type": "markdown",
   "metadata": {},
   "source": [
    "# Table of Contents\n",
    "1. [Setup](#Setup)\n",
    "2. [Preprocessing](#Preprocessing)\n",
    "3. [ML Pipeline](#ML-Pipeline)\n",
    "    1. [Train-Test Split](#Train-Test-Split)\n",
    "    2. [Random Forest](#Train-Random-Forest)\n",
    "    3. [Deep Learning](#Train-Deep-Learning)\n",
    "    4. [Ensemble Model](#Ensemble-Model)"
   ]
  },
  {
   "cell_type": "markdown",
   "metadata": {},
   "source": [
    "# Setup\n",
    "[Back to Top](#Table-of-Contents)"
   ]
  },
  {
   "cell_type": "code",
   "execution_count": 1,
   "metadata": {
    "collapsed": true
   },
   "outputs": [],
   "source": [
    "%matplotlib inline\n",
    "import pandas as pd\n",
    "import numpy as np\n",
    "import os\n",
    "import matplotlib.pyplot as plt\n",
    "import seaborn as sns\n",
    "import sklearn\n",
    "import random\n",
    "from tqdm import *"
   ]
  },
  {
   "cell_type": "code",
   "execution_count": 2,
   "metadata": {
    "collapsed": true
   },
   "outputs": [],
   "source": [
    "# ROOT_DIR - root directory\n",
    "ROOT_DIR = os.getcwd()+'/'\n",
    "\n",
    "# FEATURE_DIR - directory where feature dataframes are saved\n",
    "DATA_DIR = ROOT_DIR + 'dataframes/'"
   ]
  },
  {
   "cell_type": "code",
   "execution_count": 3,
   "metadata": {
    "collapsed": false
   },
   "outputs": [
    {
     "name": "stdout",
     "output_type": "stream",
     "text": [
      "Number of prESTs: 22603\n"
     ]
    },
    {
     "data": {
      "text/html": [
       "<div>\n",
       "<table border=\"1\" class=\"dataframe\">\n",
       "  <thead>\n",
       "    <tr style=\"text-align: right;\">\n",
       "      <th></th>\n",
       "      <th>prest_id</th>\n",
       "      <th>uniprot_id</th>\n",
       "      <th>conc_cf</th>\n",
       "      <th>aa_seq</th>\n",
       "      <th>nt_seq</th>\n",
       "      <th>aa_len</th>\n",
       "      <th>true_nt_seq</th>\n",
       "      <th>AAA</th>\n",
       "      <th>AAT</th>\n",
       "      <th>AAC</th>\n",
       "      <th>...</th>\n",
       "      <th>ronn_avg</th>\n",
       "      <th>ronn_results</th>\n",
       "      <th>ronn_frac</th>\n",
       "      <th>disopred_results</th>\n",
       "      <th>disopred_avg</th>\n",
       "      <th>disopred_pb_results</th>\n",
       "      <th>disopred_pb_avg</th>\n",
       "      <th>disopred_frac</th>\n",
       "      <th>disopred_pb_frac</th>\n",
       "      <th>expressed</th>\n",
       "    </tr>\n",
       "  </thead>\n",
       "  <tbody>\n",
       "    <tr>\n",
       "      <th>1</th>\n",
       "      <td>140099</td>\n",
       "      <td>G3V537</td>\n",
       "      <td>2.91540</td>\n",
       "      <td>TYYAWKHELLGSGTCPALPPREVLGMEELEKLPEEQVAEEELECSA...</td>\n",
       "      <td>GACAAGCTTGCGGCCGCAACCTACTATGCCTGGAAGCATGAGCTGC...</td>\n",
       "      <td>144</td>\n",
       "      <td>ACCTACTATGCCTGGAAGCATGAGCTGCTGGGCTCTGGCACCTGCC...</td>\n",
       "      <td>0.006944</td>\n",
       "      <td>0.013889</td>\n",
       "      <td>0.013889</td>\n",
       "      <td>...</td>\n",
       "      <td>0.488125</td>\n",
       "      <td>tyyawkhellGSGTcPALPPREVLGMEELEKLPEEQVAEEELECSa...</td>\n",
       "      <td>0.493056</td>\n",
       "      <td>tyyawkhellgsgtCPALPPREVLGMEELEKLPEEQVAEEELECSA...</td>\n",
       "      <td>0.421597</td>\n",
       "      <td>..............^^^^^^--^^^^^^^^^^^^^^^^^^^-^^^^...</td>\n",
       "      <td>0.352917</td>\n",
       "      <td>0.465278</td>\n",
       "      <td>0.423611</td>\n",
       "      <td>False</td>\n",
       "    </tr>\n",
       "    <tr>\n",
       "      <th>2</th>\n",
       "      <td>140225</td>\n",
       "      <td>P12724</td>\n",
       "      <td>1.48770</td>\n",
       "      <td>SLHARPPQFTRAQWFAIQHISLNPPRCTIAMRAINNYRWRCKNQNT...</td>\n",
       "      <td>GACAAGCTTGCGGCCGCATCACTCCATGCCAGACCCCCACAGTTTA...</td>\n",
       "      <td>136</td>\n",
       "      <td>TCACTCCATGCCAGACCCCCACAGTTTACGAGGGCTCAGTGGTTTG...</td>\n",
       "      <td>0.007353</td>\n",
       "      <td>0.051471</td>\n",
       "      <td>0.058824</td>\n",
       "      <td>...</td>\n",
       "      <td>0.368750</td>\n",
       "      <td>SLharppqftraqwfaiqhislnpprctiamrainnyrwrcknqnt...</td>\n",
       "      <td>0.058824</td>\n",
       "      <td>slharppqftraqwfaiqhislnpprctiamrainnyrwrcknqnt...</td>\n",
       "      <td>0.034338</td>\n",
       "      <td>.................................................</td>\n",
       "      <td>0.000000</td>\n",
       "      <td>0.000000</td>\n",
       "      <td>0.000000</td>\n",
       "      <td>False</td>\n",
       "    </tr>\n",
       "    <tr>\n",
       "      <th>5</th>\n",
       "      <td>140325</td>\n",
       "      <td>O43506</td>\n",
       "      <td>1.50290</td>\n",
       "      <td>FVGWWTHQRFVELVVVVDNIRYLFSQSNATTVQHEVFNVVNIVDSF...</td>\n",
       "      <td>GACAAGCTTGCGGCCGCATTTGTGGGCTGGTGGACCCATCAGCGGT...</td>\n",
       "      <td>137</td>\n",
       "      <td>TTTGTGGGCTGGTGGACCCATCAGCGGTTTGTTGAGCTGGTAGTGG...</td>\n",
       "      <td>0.014599</td>\n",
       "      <td>0.072993</td>\n",
       "      <td>0.021898</td>\n",
       "      <td>...</td>\n",
       "      <td>0.310584</td>\n",
       "      <td>fvgwwthqrfvelvvvvdnirylfsqsnattvqhevfnvvnivdsf...</td>\n",
       "      <td>0.000000</td>\n",
       "      <td>fvgwwthqrfvelvvvvdnirylfsqsnattvqhevfnvvnivdsf...</td>\n",
       "      <td>0.015912</td>\n",
       "      <td>.................................................</td>\n",
       "      <td>0.000000</td>\n",
       "      <td>0.000000</td>\n",
       "      <td>0.000000</td>\n",
       "      <td>False</td>\n",
       "    </tr>\n",
       "    <tr>\n",
       "      <th>8</th>\n",
       "      <td>140354</td>\n",
       "      <td>O95072</td>\n",
       "      <td>0.92003</td>\n",
       "      <td>RRRLLFWDKETQISPEKFQEQLQTRAHCWECPMVQPPERTIRGPAE...</td>\n",
       "      <td>GACAAGCTTGCGGCCGCACGTCGCCGGTTACTGTTCTGGGACAAGG...</td>\n",
       "      <td>134</td>\n",
       "      <td>CGTCGCCGGTTACTGTTCTGGGACAAGGAGACTCAGATCTCCCCGG...</td>\n",
       "      <td>0.014925</td>\n",
       "      <td>0.000000</td>\n",
       "      <td>0.000000</td>\n",
       "      <td>...</td>\n",
       "      <td>0.540448</td>\n",
       "      <td>rrrllfWDKETQISPEKFQEQLQTRAHCWEcPmvQPPERTIRGPae...</td>\n",
       "      <td>0.671642</td>\n",
       "      <td>Rrrllfwdketqispekfqeqlqtrahcwecpmvqppertirgpae...</td>\n",
       "      <td>0.271269</td>\n",
       "      <td>-................................................</td>\n",
       "      <td>0.191791</td>\n",
       "      <td>0.208955</td>\n",
       "      <td>0.201493</td>\n",
       "      <td>False</td>\n",
       "    </tr>\n",
       "    <tr>\n",
       "      <th>10</th>\n",
       "      <td>140500</td>\n",
       "      <td>C9J919</td>\n",
       "      <td>2.21830</td>\n",
       "      <td>MQQPPPQKVRINLQQQPPPLQIKSVPLPTLKMQTTLVPPTVESSPE...</td>\n",
       "      <td>GACAAGCTTGCGGCCGCAATGCAACAGCCTCCACCTCAGAAAGTTC...</td>\n",
       "      <td>140</td>\n",
       "      <td>ATGCAACAGCCTCCACCTCAGAAAGTTCGAATCAATTTACAGCAAC...</td>\n",
       "      <td>0.014286</td>\n",
       "      <td>0.021429</td>\n",
       "      <td>0.021429</td>\n",
       "      <td>...</td>\n",
       "      <td>0.587714</td>\n",
       "      <td>MQQPPPQKVRINLQQQPPPLQIKSVPLPTLKMQTTLVPPTVESSPE...</td>\n",
       "      <td>0.771429</td>\n",
       "      <td>MQQPPPQKVRINLQQQPpplQIKsvplPtLKMQTTLVPPTVESSPE...</td>\n",
       "      <td>0.489143</td>\n",
       "      <td>^^^^^^^^^^^^^^^^^...^^^....-.----^-------^^^^^...</td>\n",
       "      <td>0.453500</td>\n",
       "      <td>0.585714</td>\n",
       "      <td>0.471429</td>\n",
       "      <td>False</td>\n",
       "    </tr>\n",
       "  </tbody>\n",
       "</table>\n",
       "<p>5 rows × 164 columns</p>\n",
       "</div>"
      ],
      "text/plain": [
       "    prest_id uniprot_id  conc_cf  \\\n",
       "1     140099     G3V537  2.91540   \n",
       "2     140225     P12724  1.48770   \n",
       "5     140325     O43506  1.50290   \n",
       "8     140354     O95072  0.92003   \n",
       "10    140500     C9J919  2.21830   \n",
       "\n",
       "                                               aa_seq  \\\n",
       "1   TYYAWKHELLGSGTCPALPPREVLGMEELEKLPEEQVAEEELECSA...   \n",
       "2   SLHARPPQFTRAQWFAIQHISLNPPRCTIAMRAINNYRWRCKNQNT...   \n",
       "5   FVGWWTHQRFVELVVVVDNIRYLFSQSNATTVQHEVFNVVNIVDSF...   \n",
       "8   RRRLLFWDKETQISPEKFQEQLQTRAHCWECPMVQPPERTIRGPAE...   \n",
       "10  MQQPPPQKVRINLQQQPPPLQIKSVPLPTLKMQTTLVPPTVESSPE...   \n",
       "\n",
       "                                               nt_seq  aa_len  \\\n",
       "1   GACAAGCTTGCGGCCGCAACCTACTATGCCTGGAAGCATGAGCTGC...     144   \n",
       "2   GACAAGCTTGCGGCCGCATCACTCCATGCCAGACCCCCACAGTTTA...     136   \n",
       "5   GACAAGCTTGCGGCCGCATTTGTGGGCTGGTGGACCCATCAGCGGT...     137   \n",
       "8   GACAAGCTTGCGGCCGCACGTCGCCGGTTACTGTTCTGGGACAAGG...     134   \n",
       "10  GACAAGCTTGCGGCCGCAATGCAACAGCCTCCACCTCAGAAAGTTC...     140   \n",
       "\n",
       "                                          true_nt_seq       AAA       AAT  \\\n",
       "1   ACCTACTATGCCTGGAAGCATGAGCTGCTGGGCTCTGGCACCTGCC...  0.006944  0.013889   \n",
       "2   TCACTCCATGCCAGACCCCCACAGTTTACGAGGGCTCAGTGGTTTG...  0.007353  0.051471   \n",
       "5   TTTGTGGGCTGGTGGACCCATCAGCGGTTTGTTGAGCTGGTAGTGG...  0.014599  0.072993   \n",
       "8   CGTCGCCGGTTACTGTTCTGGGACAAGGAGACTCAGATCTCCCCGG...  0.014925  0.000000   \n",
       "10  ATGCAACAGCCTCCACCTCAGAAAGTTCGAATCAATTTACAGCAAC...  0.014286  0.021429   \n",
       "\n",
       "         AAC    ...      ronn_avg  \\\n",
       "1   0.013889    ...      0.488125   \n",
       "2   0.058824    ...      0.368750   \n",
       "5   0.021898    ...      0.310584   \n",
       "8   0.000000    ...      0.540448   \n",
       "10  0.021429    ...      0.587714   \n",
       "\n",
       "                                         ronn_results  ronn_frac  \\\n",
       "1   tyyawkhellGSGTcPALPPREVLGMEELEKLPEEQVAEEELECSa...   0.493056   \n",
       "2   SLharppqftraqwfaiqhislnpprctiamrainnyrwrcknqnt...   0.058824   \n",
       "5   fvgwwthqrfvelvvvvdnirylfsqsnattvqhevfnvvnivdsf...   0.000000   \n",
       "8   rrrllfWDKETQISPEKFQEQLQTRAHCWEcPmvQPPERTIRGPae...   0.671642   \n",
       "10  MQQPPPQKVRINLQQQPPPLQIKSVPLPTLKMQTTLVPPTVESSPE...   0.771429   \n",
       "\n",
       "                                     disopred_results  disopred_avg  \\\n",
       "1   tyyawkhellgsgtCPALPPREVLGMEELEKLPEEQVAEEELECSA...      0.421597   \n",
       "2   slharppqftraqwfaiqhislnpprctiamrainnyrwrcknqnt...      0.034338   \n",
       "5   fvgwwthqrfvelvvvvdnirylfsqsnattvqhevfnvvnivdsf...      0.015912   \n",
       "8   Rrrllfwdketqispekfqeqlqtrahcwecpmvqppertirgpae...      0.271269   \n",
       "10  MQQPPPQKVRINLQQQPpplQIKsvplPtLKMQTTLVPPTVESSPE...      0.489143   \n",
       "\n",
       "                                  disopred_pb_results  disopred_pb_avg  \\\n",
       "1   ..............^^^^^^--^^^^^^^^^^^^^^^^^^^-^^^^...         0.352917   \n",
       "2   .................................................         0.000000   \n",
       "5   .................................................         0.000000   \n",
       "8   -................................................         0.191791   \n",
       "10  ^^^^^^^^^^^^^^^^^...^^^....-.----^-------^^^^^...         0.453500   \n",
       "\n",
       "    disopred_frac  disopred_pb_frac  expressed  \n",
       "1        0.465278          0.423611      False  \n",
       "2        0.000000          0.000000      False  \n",
       "5        0.000000          0.000000      False  \n",
       "8        0.208955          0.201493      False  \n",
       "10       0.585714          0.471429      False  \n",
       "\n",
       "[5 rows x 164 columns]"
      ]
     },
     "execution_count": 3,
     "metadata": {},
     "output_type": "execute_result"
    }
   ],
   "source": [
    "DF_prest = pd.read_csv(DATA_DIR+'DF_prest_filtered.csv',index_col=0)\n",
    "print 'Number of prESTs:', len(DF_prest)\n",
    "DF_prest.head()"
   ]
  },
  {
   "cell_type": "markdown",
   "metadata": {},
   "source": [
    "# Preprocessing\n",
    "[Back to Top](#Table-of-Contents)"
   ]
  },
  {
   "cell_type": "markdown",
   "metadata": {},
   "source": [
    "There are very few highly expressed proteins when there are >4 prESTs from the same uniprot, as these were peptides that were difficult to express"
   ]
  },
  {
   "cell_type": "code",
   "execution_count": 4,
   "metadata": {
    "collapsed": false
   },
   "outputs": [
    {
     "name": "stderr",
     "output_type": "stream",
     "text": [
      "100%|██████████| 12851/12851 [00:12<00:00, 1065.91it/s]\n"
     ]
    }
   ],
   "source": [
    "df_counts = pd.DataFrame(data=0,columns=['high','low'],index=set(DF_prest.groupby('uniprot_id').count().aa_seq))\n",
    "\n",
    "for name, group in tqdm(DF_prest.groupby('uniprot_id')):\n",
    "    n = len(group.conc_cf)\n",
    "    df_counts.loc[n,'high'] += sum(group.expressed==True)\n",
    "    df_counts.loc[n,'low'] += sum(group.expressed==False)"
   ]
  },
  {
   "cell_type": "code",
   "execution_count": 5,
   "metadata": {
    "collapsed": false
   },
   "outputs": [
    {
     "data": {
      "text/plain": [
       "<matplotlib.axes._subplots.AxesSubplot at 0x7f5c31310150>"
      ]
     },
     "execution_count": 5,
     "metadata": {},
     "output_type": "execute_result"
    },
    {
     "data": {
      "image/png": "[encoded data removed]",
      "text/plain": [
       "<matplotlib.figure.Figure at 0x7f5c04c4fdd0>"
      ]
     },
     "metadata": {},
     "output_type": "display_data"
    },
    {
     "data": {
      "image/png": "[encoded data removed]",
      "text/plain": [
       "<matplotlib.figure.Figure at 0x7f5c316f4c10>"
      ]
     },
     "metadata": {},
     "output_type": "display_data"
    }
   ],
   "source": [
    "df_counts.plot(kind='bar')\n",
    "df_counts[df_counts.index > 5].plot(kind='bar')"
   ]
  },
  {
   "cell_type": "markdown",
   "metadata": {},
   "source": [
    "Only keep proteins that have <5 prESTs per protein"
   ]
  },
  {
   "cell_type": "code",
   "execution_count": 6,
   "metadata": {
    "collapsed": false
   },
   "outputs": [],
   "source": [
    "low_num_uniprots = DF_prest.groupby('uniprot_id').count().aa_seq[DF_prest.groupby('uniprot_id').count().aa_seq < 5].index.tolist()\n",
    "DF_prest_filtered = DF_prest[DF_prest.uniprot_id.isin(low_num_uniprots)]"
   ]
  },
  {
   "cell_type": "code",
   "execution_count": 7,
   "metadata": {
    "collapsed": false
   },
   "outputs": [
    {
     "name": "stdout",
     "output_type": "stream",
     "text": [
      "prest_id\n",
      "1    6354\n",
      "2    4122\n",
      "3    1712\n",
      "4     511\n",
      "Name: aa_seq, dtype: int64\n"
     ]
    },
    {
     "data": {
      "image/png": "[encoded data removed]",
      "text/plain": [
       "<matplotlib.figure.Figure at 0x7f5c3125d6d0>"
      ]
     },
     "metadata": {},
     "output_type": "display_data"
    }
   ],
   "source": [
    "# Number of prESTs per protein\n",
    "pie_var = DF_prest_filtered.groupby('uniprot_id').count().groupby('prest_id').count().aa_seq\n",
    "pie = (pie_var).plot(kind='pie',fontsize=10,figsize=(5,5),label='before')\n",
    "print(pie_var)"
   ]
  },
  {
   "cell_type": "markdown",
   "metadata": {},
   "source": [
    "# ML Pipeline\n",
    "[Back to Top](#Table-of-Contents)"
   ]
  },
  {
   "cell_type": "markdown",
   "metadata": {},
   "source": [
    "This pipeline mirrors the classification workflow, except for splitting training and testing datasets"
   ]
  },
  {
   "cell_type": "markdown",
   "metadata": {},
   "source": [
    "### Train-Test Split\n",
    "[Back to Top](#Table-of-Contents)"
   ]
  },
  {
   "cell_type": "code",
   "execution_count": 8,
   "metadata": {
    "collapsed": false
   },
   "outputs": [],
   "source": [
    "# Get the number of prESTs per each uniprot\n",
    "uniprot_counts = DF_prest_filtered.groupby('uniprot_id').count().prest_id\n",
    "\n",
    "# Add all uniprots with a single prEST to the training set\n",
    "training_uniprots = uniprot_counts[uniprot_counts == 1].index.tolist()\n",
    "\n",
    "# Randomly pick 1/4 of other uniprots and add them to training set\n",
    "random.seed(10)\n",
    "other_uniprots = uniprot_counts[uniprot_counts > 1].index.tolist()\n",
    "training_uniprots += random.sample(other_uniprots,len(other_uniprots)/4)\n",
    "\n",
    "# Add all remaining uniprots to test set\n",
    "testing_uniprots = list(set(uniprot_counts.index.tolist()) - set(training_uniprots))"
   ]
  },
  {
   "cell_type": "code",
   "execution_count": 9,
   "metadata": {
    "collapsed": false
   },
   "outputs": [
    {
     "name": "stdout",
     "output_type": "stream",
     "text": [
      "Total number of proteins: 12699\n",
      "Number of training proteins: 7940\n",
      "Number of testing proteins: 4759\n"
     ]
    }
   ],
   "source": [
    "print 'Total number of proteins:', len(DF_prest_filtered.uniprot_id.unique())\n",
    "print 'Number of training proteins:', len(training_uniprots)\n",
    "print 'Number of testing proteins:', len(testing_uniprots)"
   ]
  },
  {
   "cell_type": "code",
   "execution_count": 10,
   "metadata": {
    "collapsed": false
   },
   "outputs": [
    {
     "name": "stdout",
     "output_type": "stream",
     "text": [
      "Training set size: 10245\n",
      "Testing set size: 11533\n"
     ]
    },
    {
     "name": "stderr",
     "output_type": "stream",
     "text": [
      "/home/anand/.virtualenvs/tensorflow/local/lib/python2.7/site-packages/pandas/core/indexing.py:288: SettingWithCopyWarning: \n",
      "A value is trying to be set on a copy of a slice from a DataFrame.\n",
      "Try using .loc[row_indexer,col_indexer] = value instead\n",
      "\n",
      "See the caveats in the documentation: http://pandas.pydata.org/pandas-docs/stable/indexing.html#indexing-view-versus-copy\n",
      "  self.obj[key] = _infer_fill_value(value)\n",
      "/home/anand/.virtualenvs/tensorflow/local/lib/python2.7/site-packages/pandas/core/indexing.py:465: SettingWithCopyWarning: \n",
      "A value is trying to be set on a copy of a slice from a DataFrame.\n",
      "Try using .loc[row_indexer,col_indexer] = value instead\n",
      "\n",
      "See the caveats in the documentation: http://pandas.pydata.org/pandas-docs/stable/indexing.html#indexing-view-versus-copy\n",
      "  self.obj[item] = s\n"
     ]
    }
   ],
   "source": [
    "# Add all prESTs in training uniprots to training set\n",
    "DF_train = DF_prest_filtered[DF_prest_filtered.uniprot_id.isin(training_uniprots)]\n",
    "DF_train.loc[:,'status'] = ['Train']*len(DF_train)\n",
    "print 'Training set size:', len(DF_train)\n",
    "\n",
    "# Repeat for test set\n",
    "DF_test = DF_prest_filtered[DF_prest_filtered.uniprot_id.isin(testing_uniprots)]\n",
    "DF_test.loc[:,'status'] = ['Test']*len(DF_test)\n",
    "print 'Testing set size:', len(DF_test)"
   ]
  },
  {
   "cell_type": "markdown",
   "metadata": {},
   "source": [
    "# Create machine learning algorithm"
   ]
  },
  {
   "cell_type": "code",
   "execution_count": 11,
   "metadata": {
    "collapsed": false
   },
   "outputs": [
    {
     "name": "stdout",
     "output_type": "stream",
     "text": [
      "Size of final dataset: 21778\n"
     ]
    }
   ],
   "source": [
    "DF_prest_final = pd.concat([DF_train,DF_test],axis=0)\n",
    "print 'Size of final dataset:',len(DF_prest_final)"
   ]
  },
  {
   "cell_type": "code",
   "execution_count": 13,
   "metadata": {
    "collapsed": false
   },
   "outputs": [],
   "source": [
    "aa_features = ['list_comp_A','list_comp_R','list_comp_N',\n",
    "               'list_comp_D','list_comp_C','list_comp_Q','list_comp_E','list_comp_G',\n",
    "               'list_comp_H','list_comp_I','list_comp_L','list_comp_K','list_comp_M',\n",
    "               'list_comp_F','list_comp_P','list_comp_S','list_comp_T','list_comp_W',\n",
    "               'list_comp_Y','list_comp_V',\n",
    "               # Amino acid types\n",
    "               'frac_aliphatic', 'frac_uncharged_polar', 'frac_polar',\n",
    "               'frac_hydrophobic', 'frac_positive', 'frac_sulfur', 'frac_negative', 'frac_amide',\n",
    "               'frac_alcohol']\n",
    "\n",
    "disorder_features = ['disembl_COILS_frac','disembl_REM465_frac','disembl_HOTLOOPS_frac','ronn_avg','ronn_frac',\n",
    "                    'disopred_avg','disopred_pb_avg','disopred_frac','disopred_pb_frac']\n",
    "\n",
    "                    \n",
    "phys_features = ['aa_len',                                        \n",
    "                # Physical properties\n",
    "                 'bio_pI','bio_mW','bio_aromaticity','bio_instability','bio_gravy','abs_avg_charge','abs_charge',\n",
    "                 'avg_charge']\n",
    "                    \n",
    "rna_features = ['AAA','AAC','AAT','AAG','ACA','ACC','ACT','ACG','ATA','ATC','ATT','ATG','AGA','AGC','AGT',\n",
    "                'AGG','CAA','CAC','CAT','CAG','CCA','CCC','CCT','CCG','CTA','CTC','CTT','CTG','CGA','CGC',\n",
    "                'CGT','CGG','TAA','TAC','TAT','TAG','TCA','TCC','TCT','TCG','TTA','TTC','TTT','TTG','TGA',\n",
    "                'TGC','TGT','TGG','GAA','GAC','GAT','GAG','GCA','GCC','GCT','GCG','GTA','GTC','GTT','GTG',\n",
    "                'GGA','GGC','GGT','GGG',\n",
    "                'GC_content','list_nuc_A','list_nuc_C','list_nuc_G','list_nuc_T',\n",
    "                'GC30',\n",
    "                # SD sequences\n",
    "                'sd_like_fwd','sd_like_fwd_frac','sd_like_rev','sd_like_rev_frac','sd_seq_fwd',\n",
    "                'sd_seq_fwd_frac','sd_seq_rev','sd_seq_rev_frac',\n",
    "                # RNA folding\n",
    "                'RNA_folding_energy','RNA_40_energy','tAI']\n",
    "                    \n",
    "ss_features = ['acc20_mean','ss_helix', 'ss_ext', 'ss_c', 'ss8_helix', 'ss8_ext', 'ss8_turn', 'ss8_helix3',\n",
    "               'ss8_pi_helix', 'ss8_bridge', 'ss8_bend', 'ss8_coil', 'acc_frac',\n",
    "               'in_gravy','out_gravy', 'acc_hydrophilic_in','acc_hydrophilic_out',\n",
    "               'acc_hydrophobic_in','acc_hydrophobic_out']\n",
    "\n",
    "list_of_features = aa_features+disorder_features+phys_features+rna_features+ss_features + ['status']\n",
    "\n",
    "DF_prest_features = DF_prest_final[list_of_features]"
   ]
  },
  {
   "cell_type": "code",
   "execution_count": 14,
   "metadata": {
    "collapsed": false
   },
   "outputs": [
    {
     "name": "stdout",
     "output_type": "stream",
     "text": [
      "No. of samples = 21778\n",
      "No. of features = 148\n"
     ]
    }
   ],
   "source": [
    "X = DF_prest_features.values\n",
    "y = DF_prest_final['expressed'].values\n",
    "n_samples, n_features = X.shape\n",
    "print(\"No. of samples = %d\" % n_samples)\n",
    "print(\"No. of features = %d\" % n_features)"
   ]
  },
  {
   "cell_type": "code",
   "execution_count": 15,
   "metadata": {
    "collapsed": false
   },
   "outputs": [
    {
     "name": "stderr",
     "output_type": "stream",
     "text": [
      "/home/anand/.virtualenvs/tensorflow/local/lib/python2.7/site-packages/sklearn/utils/validation.py:429: DataConversionWarning: Data with input dtype object was converted to float64 by StandardScaler.\n",
      "  warnings.warn(msg, _DataConversionWarning)\n"
     ]
    }
   ],
   "source": [
    "X_train = X[X[:,-1]=='Train'][:,:-1]\n",
    "X_test = X[X[:,-1]=='Test'][:,:-1]\n",
    "y_train = y[X[:,-1]=='Train']\n",
    "y_test = y[X[:,-1]=='Test']\n",
    "\n",
    "from sklearn.preprocessing import StandardScaler\n",
    "scl = StandardScaler().fit(X_train)\n",
    "X_train = scl.transform(X_train)\n",
    "X_test = scl.transform(X_test)"
   ]
  },
  {
   "cell_type": "markdown",
   "metadata": {},
   "source": [
    "## Train Random Forest\n",
    "[Back to Top](#Table-of-Contents)"
   ]
  },
  {
   "cell_type": "code",
   "execution_count": 16,
   "metadata": {
    "collapsed": false
   },
   "outputs": [],
   "source": [
    "from sklearn.ensemble import RandomForestClassifier\n",
    "\n",
    "clf = RandomForestClassifier(n_estimators=200,oob_score=True,random_state=0,n_jobs=-1)\n",
    "\n",
    "params = {'n_estimators': [200,500,1000],\n",
    "           'max_depth': [6,10,15,20,None],\n",
    "           'min_samples_leaf': [1,2,5],\n",
    "           'min_samples_split': [2,5]\n",
    "        }"
   ]
  },
  {
   "cell_type": "code",
   "execution_count": 17,
   "metadata": {
    "collapsed": false
   },
   "outputs": [
    {
     "name": "stdout",
     "output_type": "stream",
     "text": [
      "Initial Training Accuracy: 1.0\n",
      "Initial Testing Accuracy: 0.678487817567\n",
      "Fitting 3 folds for each of 90 candidates, totalling 270 fits\n"
     ]
    },
    {
     "name": "stderr",
     "output_type": "stream",
     "text": [
      "[Parallel(n_jobs=-1)]: Done  34 tasks      | elapsed:   19.3s\n",
      "[Parallel(n_jobs=-1)]: Done 184 tasks      | elapsed:  1.8min\n",
      "[Parallel(n_jobs=-1)]: Done 270 out of 270 | elapsed:  2.7min finished\n"
     ]
    },
    {
     "name": "stdout",
     "output_type": "stream",
     "text": [
      "Final Training Accuracy: 0.90326988775\n",
      "Final Testing Accuracy: 0.678921356109\n"
     ]
    }
   ],
   "source": [
    "from sklearn.model_selection import GridSearchCV\n",
    "clf.fit(X_train,y_train)\n",
    "print 'Initial Training Accuracy:',clf.score(X_train,y_train)\n",
    "print 'Initial Testing Accuracy:',clf.score(X_test,y_test)\n",
    "\n",
    "n_subsamples = 1000\n",
    "X_small_train, y_small_train = X_train[:n_subsamples], y_train[:n_subsamples]\n",
    "\n",
    "gs = GridSearchCV(clf,\n",
    "                  params,\n",
    "                  cv=3,\n",
    "                  verbose=1,\n",
    "                  scoring = 'roc_auc',\n",
    "                  error_score=0,\n",
    "                  n_jobs=-1)\n",
    "\n",
    "_ = gs.fit(X_small_train, y_small_train)\n",
    "clf.set_params(**gs.best_params_)\n",
    "clf.fit(X_train, y_train)\n",
    "\n",
    "print 'Final Training Accuracy:',clf.score(X_train,y_train)\n",
    "print 'Final Testing Accuracy:',clf.score(X_test,y_test)\n"
   ]
  },
  {
   "cell_type": "markdown",
   "metadata": {},
   "source": [
    "## Train Deep Learning"
   ]
  },
  {
   "cell_type": "code",
   "execution_count": 37,
   "metadata": {
    "collapsed": true
   },
   "outputs": [],
   "source": [
    "import tensorflow as tf\n",
    "tf.logging.set_verbosity(tf.logging.ERROR)\n",
    "TF_DIR = ROOT_DIR+'misc_files/tf_models/'"
   ]
  },
  {
   "cell_type": "code",
   "execution_count": 38,
   "metadata": {
    "collapsed": true
   },
   "outputs": [],
   "source": [
    "train_set = tf.contrib.learn.python.learn.datasets.base.Dataset(data=X_train.astype(np.float32),target=y_train.astype(np.float32))\n",
    "test_set = tf.contrib.learn.python.learn.datasets.base.Dataset(data=X_test.astype(np.float32),target=y_test.astype(np.float32))"
   ]
  },
  {
   "cell_type": "code",
   "execution_count": 39,
   "metadata": {
    "collapsed": true
   },
   "outputs": [],
   "source": [
    "# Specify important validation metrics\n",
    "validation_metrics = {'accuracy': tf.contrib.metrics.streaming_accuracy,\n",
    "                      'precision': tf.contrib.metrics.streaming_precision,\n",
    "                      'recall': tf.contrib.metrics.streaming_recall}\n",
    "\n",
    "# Specify that all features have real-value data\n",
    "feature_columns = [tf.contrib.layers.real_valued_column(\"\", dimension=147)]"
   ]
  },
  {
   "cell_type": "code",
   "execution_count": 42,
   "metadata": {
    "collapsed": true
   },
   "outputs": [],
   "source": [
    "# Initialize model directory\n",
    "model_dir = TF_DIR+'retrospective/'\n",
    "\n",
    "# Initialize Monitor\n",
    "monitor_params = {'x':test_set.data,\n",
    "                 'y':test_set.target,\n",
    "                 'every_n_steps':50,\n",
    "                 'metrics':validation_metrics,\n",
    "                 'early_stopping_metric':'loss',\n",
    "                 'early_stopping_metric_minimize':True,\n",
    "                 'early_stopping_rounds':200}\n",
    "\n",
    "monitor = tf.contrib.learn.monitors.ValidationMonitor(**monitor_params)\n",
    "\n",
    "clf_params = {'feature_columns':feature_columns,\n",
    "              'hidden_units':[100,200,100],\n",
    "              'n_classes':2,\n",
    "              'activation_fn':tf.nn.relu,\n",
    "              'optimizer':tf.train.RMSPropOptimizer(learning_rate=0.0001),\n",
    "              'dropout':0.5,\n",
    "              'config':tf.contrib.learn.RunConfig(save_checkpoints_secs=1),\n",
    "              'model_dir': model_dir}\n",
    "\n",
    "fit_params = {'x':train_set.data,\n",
    "              'y':train_set.target,\n",
    "              'steps':10000,\n",
    "              'monitors':[monitor]}"
   ]
  },
  {
   "cell_type": "code",
   "execution_count": 70,
   "metadata": {
    "collapsed": false
   },
   "outputs": [
    {
     "name": "stdout",
     "output_type": "stream",
     "text": [
      "Accuracy: 0.676060\n",
      "AUC: 0.752618\n"
     ]
    }
   ],
   "source": [
    "# Initialize classifier\n",
    "final_nn = tf.contrib.learn.DNNClassifier(**clf_params)\n",
    "\n",
    "# Train classifier\n",
    "# final_nn.fit(**fit_params)\n",
    "\n",
    "# Test classifier\n",
    "scores = final_nn.evaluate(x=test_set.data, y=test_set.target)\n",
    "print('Accuracy: {0:f}'.format(scores['accuracy']))\n",
    "print('AUC: {0:f}'.format(scores['auc']))"
   ]
  },
  {
   "cell_type": "markdown",
   "metadata": {},
   "source": [
    "# Figures"
   ]
  },
  {
   "cell_type": "markdown",
   "metadata": {},
   "source": [
    "### Visualize spread of prESTs across different proteins using original dataframe"
   ]
  },
  {
   "cell_type": "code",
   "execution_count": 44,
   "metadata": {
    "collapsed": false,
    "scrolled": true
   },
   "outputs": [
    {
     "data": {
      "text/html": [
       "<div>\n",
       "<table border=\"1\" class=\"dataframe\">\n",
       "  <thead>\n",
       "    <tr style=\"text-align: right;\">\n",
       "      <th></th>\n",
       "      <th>prest_id</th>\n",
       "      <th>uniprot_id</th>\n",
       "      <th>conc_cf</th>\n",
       "      <th>aa_seq</th>\n",
       "      <th>nt_seq</th>\n",
       "      <th>aa_len</th>\n",
       "      <th>true_nt_seq</th>\n",
       "      <th>AAA</th>\n",
       "      <th>AAT</th>\n",
       "      <th>AAC</th>\n",
       "      <th>...</th>\n",
       "      <th>ronn_results</th>\n",
       "      <th>ronn_frac</th>\n",
       "      <th>disopred_results</th>\n",
       "      <th>disopred_avg</th>\n",
       "      <th>disopred_pb_results</th>\n",
       "      <th>disopred_pb_avg</th>\n",
       "      <th>disopred_frac</th>\n",
       "      <th>disopred_pb_frac</th>\n",
       "      <th>expressed</th>\n",
       "      <th>status</th>\n",
       "    </tr>\n",
       "  </thead>\n",
       "  <tbody>\n",
       "    <tr>\n",
       "      <th>1</th>\n",
       "      <td>140099</td>\n",
       "      <td>G3V537</td>\n",
       "      <td>2.9154</td>\n",
       "      <td>TYYAWKHELLGSGTCPALPPREVLGMEELEKLPEEQVAEEELECSA...</td>\n",
       "      <td>GACAAGCTTGCGGCCGCAACCTACTATGCCTGGAAGCATGAGCTGC...</td>\n",
       "      <td>144</td>\n",
       "      <td>ACCTACTATGCCTGGAAGCATGAGCTGCTGGGCTCTGGCACCTGCC...</td>\n",
       "      <td>0.006944</td>\n",
       "      <td>0.013889</td>\n",
       "      <td>0.013889</td>\n",
       "      <td>...</td>\n",
       "      <td>tyyawkhellGSGTcPALPPREVLGMEELEKLPEEQVAEEELECSa...</td>\n",
       "      <td>0.493056</td>\n",
       "      <td>tyyawkhellgsgtCPALPPREVLGMEELEKLPEEQVAEEELECSA...</td>\n",
       "      <td>0.421597</td>\n",
       "      <td>..............^^^^^^--^^^^^^^^^^^^^^^^^^^-^^^^...</td>\n",
       "      <td>0.352917</td>\n",
       "      <td>0.465278</td>\n",
       "      <td>0.423611</td>\n",
       "      <td>False</td>\n",
       "      <td>Train</td>\n",
       "    </tr>\n",
       "    <tr>\n",
       "      <th>2</th>\n",
       "      <td>140225</td>\n",
       "      <td>P12724</td>\n",
       "      <td>1.4877</td>\n",
       "      <td>SLHARPPQFTRAQWFAIQHISLNPPRCTIAMRAINNYRWRCKNQNT...</td>\n",
       "      <td>GACAAGCTTGCGGCCGCATCACTCCATGCCAGACCCCCACAGTTTA...</td>\n",
       "      <td>136</td>\n",
       "      <td>TCACTCCATGCCAGACCCCCACAGTTTACGAGGGCTCAGTGGTTTG...</td>\n",
       "      <td>0.007353</td>\n",
       "      <td>0.051471</td>\n",
       "      <td>0.058824</td>\n",
       "      <td>...</td>\n",
       "      <td>SLharppqftraqwfaiqhislnpprctiamrainnyrwrcknqnt...</td>\n",
       "      <td>0.058824</td>\n",
       "      <td>slharppqftraqwfaiqhislnpprctiamrainnyrwrcknqnt...</td>\n",
       "      <td>0.034338</td>\n",
       "      <td>.................................................</td>\n",
       "      <td>0.000000</td>\n",
       "      <td>0.000000</td>\n",
       "      <td>0.000000</td>\n",
       "      <td>False</td>\n",
       "      <td>Train</td>\n",
       "    </tr>\n",
       "    <tr>\n",
       "      <th>10</th>\n",
       "      <td>140500</td>\n",
       "      <td>C9J919</td>\n",
       "      <td>2.2183</td>\n",
       "      <td>MQQPPPQKVRINLQQQPPPLQIKSVPLPTLKMQTTLVPPTVESSPE...</td>\n",
       "      <td>GACAAGCTTGCGGCCGCAATGCAACAGCCTCCACCTCAGAAAGTTC...</td>\n",
       "      <td>140</td>\n",
       "      <td>ATGCAACAGCCTCCACCTCAGAAAGTTCGAATCAATTTACAGCAAC...</td>\n",
       "      <td>0.014286</td>\n",
       "      <td>0.021429</td>\n",
       "      <td>0.021429</td>\n",
       "      <td>...</td>\n",
       "      <td>MQQPPPQKVRINLQQQPPPLQIKSVPLPTLKMQTTLVPPTVESSPE...</td>\n",
       "      <td>0.771429</td>\n",
       "      <td>MQQPPPQKVRINLQQQPpplQIKsvplPtLKMQTTLVPPTVESSPE...</td>\n",
       "      <td>0.489143</td>\n",
       "      <td>^^^^^^^^^^^^^^^^^...^^^....-.----^-------^^^^^...</td>\n",
       "      <td>0.453500</td>\n",
       "      <td>0.585714</td>\n",
       "      <td>0.471429</td>\n",
       "      <td>False</td>\n",
       "      <td>Train</td>\n",
       "    </tr>\n",
       "    <tr>\n",
       "      <th>11</th>\n",
       "      <td>140587</td>\n",
       "      <td>A0A0D9SFN7</td>\n",
       "      <td>1.1715</td>\n",
       "      <td>LSAVAATKSPIIFIGTGEHIDDFEPFKTQPFISKLLGMGDIEGLID...</td>\n",
       "      <td>GACAAGCTTGCGGCCGCACTCAGTGCAGTCGCTGCCACAAAAAGTC...</td>\n",
       "      <td>113</td>\n",
       "      <td>CTCAGTGCAGTCGCTGCCACAAAAAGTCCGATTATTTTCATTGGTA...</td>\n",
       "      <td>0.061947</td>\n",
       "      <td>0.026549</td>\n",
       "      <td>0.008850</td>\n",
       "      <td>...</td>\n",
       "      <td>lsavaatkspiifigtgehiddfepfktqpfiskllgmgdieglid...</td>\n",
       "      <td>0.070796</td>\n",
       "      <td>Lsavaatkspiifigtgehiddfepfktqpfiskllgmgdieglid...</td>\n",
       "      <td>0.163451</td>\n",
       "      <td>-................................................</td>\n",
       "      <td>0.095575</td>\n",
       "      <td>0.106195</td>\n",
       "      <td>0.097345</td>\n",
       "      <td>False</td>\n",
       "      <td>Train</td>\n",
       "    </tr>\n",
       "    <tr>\n",
       "      <th>14</th>\n",
       "      <td>140607</td>\n",
       "      <td>P08311</td>\n",
       "      <td>3.0094</td>\n",
       "      <td>NDIMLLQLSRRVRRNRNVNPVALPRAQEGLRPGTLCTVAGWGRVSM...</td>\n",
       "      <td>CAGAATGACATCATGTTATTGCAGCTGAGCAGAAGAGTCAGACGGA...</td>\n",
       "      <td>147</td>\n",
       "      <td>AATGACATCATGTTATTGCAGCTGAGCAGAAGAGTCAGACGGAATC...</td>\n",
       "      <td>0.006803</td>\n",
       "      <td>0.020408</td>\n",
       "      <td>0.020408</td>\n",
       "      <td>...</td>\n",
       "      <td>ndimllqlsrRVRRNRNVNPVALPRAQEGLRPGtlctvagwgrvsm...</td>\n",
       "      <td>0.210884</td>\n",
       "      <td>ndimllqlsrrvrrnrnvnpvalpraqeglrpgtlctvagwgrvsm...</td>\n",
       "      <td>0.061293</td>\n",
       "      <td>.................................................</td>\n",
       "      <td>0.032381</td>\n",
       "      <td>0.034014</td>\n",
       "      <td>0.034014</td>\n",
       "      <td>False</td>\n",
       "      <td>Train</td>\n",
       "    </tr>\n",
       "  </tbody>\n",
       "</table>\n",
       "<p>5 rows × 165 columns</p>\n",
       "</div>"
      ],
      "text/plain": [
       "    prest_id  uniprot_id  conc_cf  \\\n",
       "1     140099      G3V537   2.9154   \n",
       "2     140225      P12724   1.4877   \n",
       "10    140500      C9J919   2.2183   \n",
       "11    140587  A0A0D9SFN7   1.1715   \n",
       "14    140607      P08311   3.0094   \n",
       "\n",
       "                                               aa_seq  \\\n",
       "1   TYYAWKHELLGSGTCPALPPREVLGMEELEKLPEEQVAEEELECSA...   \n",
       "2   SLHARPPQFTRAQWFAIQHISLNPPRCTIAMRAINNYRWRCKNQNT...   \n",
       "10  MQQPPPQKVRINLQQQPPPLQIKSVPLPTLKMQTTLVPPTVESSPE...   \n",
       "11  LSAVAATKSPIIFIGTGEHIDDFEPFKTQPFISKLLGMGDIEGLID...   \n",
       "14  NDIMLLQLSRRVRRNRNVNPVALPRAQEGLRPGTLCTVAGWGRVSM...   \n",
       "\n",
       "                                               nt_seq  aa_len  \\\n",
       "1   GACAAGCTTGCGGCCGCAACCTACTATGCCTGGAAGCATGAGCTGC...     144   \n",
       "2   GACAAGCTTGCGGCCGCATCACTCCATGCCAGACCCCCACAGTTTA...     136   \n",
       "10  GACAAGCTTGCGGCCGCAATGCAACAGCCTCCACCTCAGAAAGTTC...     140   \n",
       "11  GACAAGCTTGCGGCCGCACTCAGTGCAGTCGCTGCCACAAAAAGTC...     113   \n",
       "14  CAGAATGACATCATGTTATTGCAGCTGAGCAGAAGAGTCAGACGGA...     147   \n",
       "\n",
       "                                          true_nt_seq       AAA       AAT  \\\n",
       "1   ACCTACTATGCCTGGAAGCATGAGCTGCTGGGCTCTGGCACCTGCC...  0.006944  0.013889   \n",
       "2   TCACTCCATGCCAGACCCCCACAGTTTACGAGGGCTCAGTGGTTTG...  0.007353  0.051471   \n",
       "10  ATGCAACAGCCTCCACCTCAGAAAGTTCGAATCAATTTACAGCAAC...  0.014286  0.021429   \n",
       "11  CTCAGTGCAGTCGCTGCCACAAAAAGTCCGATTATTTTCATTGGTA...  0.061947  0.026549   \n",
       "14  AATGACATCATGTTATTGCAGCTGAGCAGAAGAGTCAGACGGAATC...  0.006803  0.020408   \n",
       "\n",
       "         AAC   ...                                         ronn_results  \\\n",
       "1   0.013889   ...    tyyawkhellGSGTcPALPPREVLGMEELEKLPEEQVAEEELECSa...   \n",
       "2   0.058824   ...    SLharppqftraqwfaiqhislnpprctiamrainnyrwrcknqnt...   \n",
       "10  0.021429   ...    MQQPPPQKVRINLQQQPPPLQIKSVPLPTLKMQTTLVPPTVESSPE...   \n",
       "11  0.008850   ...    lsavaatkspiifigtgehiddfepfktqpfiskllgmgdieglid...   \n",
       "14  0.020408   ...    ndimllqlsrRVRRNRNVNPVALPRAQEGLRPGtlctvagwgrvsm...   \n",
       "\n",
       "    ronn_frac                                   disopred_results  \\\n",
       "1    0.493056  tyyawkhellgsgtCPALPPREVLGMEELEKLPEEQVAEEELECSA...   \n",
       "2    0.058824  slharppqftraqwfaiqhislnpprctiamrainnyrwrcknqnt...   \n",
       "10   0.771429  MQQPPPQKVRINLQQQPpplQIKsvplPtLKMQTTLVPPTVESSPE...   \n",
       "11   0.070796  Lsavaatkspiifigtgehiddfepfktqpfiskllgmgdieglid...   \n",
       "14   0.210884  ndimllqlsrrvrrnrnvnpvalpraqeglrpgtlctvagwgrvsm...   \n",
       "\n",
       "    disopred_avg                                disopred_pb_results  \\\n",
       "1       0.421597  ..............^^^^^^--^^^^^^^^^^^^^^^^^^^-^^^^...   \n",
       "2       0.034338  .................................................   \n",
       "10      0.489143  ^^^^^^^^^^^^^^^^^...^^^....-.----^-------^^^^^...   \n",
       "11      0.163451  -................................................   \n",
       "14      0.061293  .................................................   \n",
       "\n",
       "    disopred_pb_avg  disopred_frac  disopred_pb_frac  expressed  status  \n",
       "1          0.352917       0.465278          0.423611      False   Train  \n",
       "2          0.000000       0.000000          0.000000      False   Train  \n",
       "10         0.453500       0.585714          0.471429      False   Train  \n",
       "11         0.095575       0.106195          0.097345      False   Train  \n",
       "14         0.032381       0.034014          0.034014      False   Train  \n",
       "\n",
       "[5 rows x 165 columns]"
      ]
     },
     "execution_count": 44,
     "metadata": {},
     "output_type": "execute_result"
    }
   ],
   "source": [
    "DF_prest_final.head()"
   ]
  },
  {
   "cell_type": "code",
   "execution_count": 45,
   "metadata": {
    "collapsed": false
   },
   "outputs": [],
   "source": [
    "# Create feature dataframe for test group\n",
    "DF_retro = DF_prest_final[DF_prest_final.status == 'Test'][aa_features+disorder_features+phys_features+rna_features+ss_features+['aa_seq','prest_id','uniprot_id','expressed']]\n",
    "DF_retro_features = DF_retro.drop(['aa_seq','prest_id','uniprot_id','expressed'],1)"
   ]
  },
  {
   "cell_type": "code",
   "execution_count": 46,
   "metadata": {
    "collapsed": false
   },
   "outputs": [
    {
     "name": "stdout",
     "output_type": "stream",
     "text": [
      "2    3118\n",
      "3    1267\n",
      "4     374\n",
      "dtype: int64\n"
     ]
    }
   ],
   "source": [
    "pie_var = DF_retro.groupby('uniprot_id').count().groupby('prest_id').count().aa_seq\n",
    "pie_var = pd.Series(np.array(pie_var),index=range(2,len(pie_var)+2))\n",
    "print pie_var"
   ]
  },
  {
   "cell_type": "code",
   "execution_count": 47,
   "metadata": {
    "collapsed": false
   },
   "outputs": [
    {
     "data": {
      "text/plain": [
       "<matplotlib.text.Text at 0x7f5be943a950>"
      ]
     },
     "execution_count": 47,
     "metadata": {},
     "output_type": "execute_result"
    },
    {
     "data": {
      "image/png": "[encoded data removed]",
      "text/plain": [
       "<matplotlib.figure.Figure at 0x7f5bc8094b90>"
      ]
     },
     "metadata": {},
     "output_type": "display_data"
    }
   ],
   "source": [
    "pie = (pie_var).plot(kind='pie',fontsize=12,figsize=(5,5))\n",
    "pie.set_ylabel('')\n",
    "pie.set_title('Number of prESTs per uniprot ID')\n",
    "#plt.savefig(FIGURE_DIR+'pie_chart.svg',transparent=True,format='svg')"
   ]
  },
  {
   "cell_type": "markdown",
   "metadata": {},
   "source": [
    "#### Get classifier score and true score"
   ]
  },
  {
   "cell_type": "code",
   "execution_count": 59,
   "metadata": {
    "collapsed": false
   },
   "outputs": [],
   "source": [
    "DF_retro.loc[:,'rf_score'] = clf.predict_proba(DF_retro_features)[:,1]\n",
    "DF_retro.loc[:,'nn_score'] = final_nn.predict_proba(test_set.data)[:,1]\n",
    "DF_retro.loc[:,'ens_score'] = DF_retro[['rf_score','nn_score']].mean(axis=1)"
   ]
  },
  {
   "cell_type": "code",
   "execution_count": 60,
   "metadata": {
    "collapsed": false
   },
   "outputs": [
    {
     "data": {
      "text/html": [
       "<div>\n",
       "<table border=\"1\" class=\"dataframe\">\n",
       "  <thead>\n",
       "    <tr style=\"text-align: right;\">\n",
       "      <th></th>\n",
       "      <th>prest_id</th>\n",
       "      <th>uniprot_id</th>\n",
       "      <th>expressed</th>\n",
       "      <th>rf_score</th>\n",
       "      <th>nn_score</th>\n",
       "      <th>aa_seq</th>\n",
       "      <th>ens_score</th>\n",
       "    </tr>\n",
       "  </thead>\n",
       "  <tbody>\n",
       "    <tr>\n",
       "      <th>0</th>\n",
       "      <td>3020371</td>\n",
       "      <td>X6RKY7</td>\n",
       "      <td>True</td>\n",
       "      <td>0.530606</td>\n",
       "      <td>0.692124</td>\n",
       "      <td>AEFRCFVKENKLIGISQRDYTQYYDHISKQKEEIRRCIQDFFKKHI...</td>\n",
       "      <td>0.611365</td>\n",
       "    </tr>\n",
       "    <tr>\n",
       "      <th>1</th>\n",
       "      <td>3020373</td>\n",
       "      <td>X6RKY7</td>\n",
       "      <td>True</td>\n",
       "      <td>0.480333</td>\n",
       "      <td>0.545103</td>\n",
       "      <td>KEHVLHCQFSAWYPFFRGVTIKSVILPLPQNVKDYLLDDGTLVVSG...</td>\n",
       "      <td>0.512718</td>\n",
       "    </tr>\n",
       "    <tr>\n",
       "      <th>2</th>\n",
       "      <td>2730004</td>\n",
       "      <td>X6RKQ2</td>\n",
       "      <td>False</td>\n",
       "      <td>0.414361</td>\n",
       "      <td>0.426968</td>\n",
       "      <td>TGGAFKGFKGLVVPSGGGRFSGFGSGAGGKPLEGLSNGNNITSAPP...</td>\n",
       "      <td>0.420664</td>\n",
       "    </tr>\n",
       "    <tr>\n",
       "      <th>3</th>\n",
       "      <td>2730001</td>\n",
       "      <td>X6RKQ2</td>\n",
       "      <td>True</td>\n",
       "      <td>0.477594</td>\n",
       "      <td>0.619637</td>\n",
       "      <td>EGDSGECKGGDEEENDEPPKVVVTEVKEEDAFYSKKCKLFYKKDNE...</td>\n",
       "      <td>0.548615</td>\n",
       "    </tr>\n",
       "    <tr>\n",
       "      <th>4</th>\n",
       "      <td>2730002</td>\n",
       "      <td>X6RKQ2</td>\n",
       "      <td>True</td>\n",
       "      <td>0.464907</td>\n",
       "      <td>0.429130</td>\n",
       "      <td>GSTKLQQESTFLFHGNKTEDTPDKKMEVASEKKTDPSSLGATSASF...</td>\n",
       "      <td>0.447019</td>\n",
       "    </tr>\n",
       "  </tbody>\n",
       "</table>\n",
       "</div>"
      ],
      "text/plain": [
       "   prest_id uniprot_id expressed  rf_score  nn_score  \\\n",
       "0   3020371     X6RKY7      True  0.530606  0.692124   \n",
       "1   3020373     X6RKY7      True  0.480333  0.545103   \n",
       "2   2730004     X6RKQ2     False  0.414361  0.426968   \n",
       "3   2730001     X6RKQ2      True  0.477594  0.619637   \n",
       "4   2730002     X6RKQ2      True  0.464907  0.429130   \n",
       "\n",
       "                                              aa_seq  ens_score  \n",
       "0  AEFRCFVKENKLIGISQRDYTQYYDHISKQKEEIRRCIQDFFKKHI...   0.611365  \n",
       "1  KEHVLHCQFSAWYPFFRGVTIKSVILPLPQNVKDYLLDDGTLVVSG...   0.512718  \n",
       "2  TGGAFKGFKGLVVPSGGGRFSGFGSGAGGKPLEGLSNGNNITSAPP...   0.420664  \n",
       "3  EGDSGECKGGDEEENDEPPKVVVTEVKEEDAFYSKKCKLFYKKDNE...   0.548615  \n",
       "4  GSTKLQQESTFLFHGNKTEDTPDKKMEVASEKKTDPSSLGATSASF...   0.447019  "
      ]
     },
     "execution_count": 60,
     "metadata": {},
     "output_type": "execute_result"
    }
   ],
   "source": [
    "DF_retro_final = DF_retro[['prest_id','uniprot_id','expressed','rf_score','nn_score','aa_seq','ens_score']].sort_values('uniprot_id',ascending=0).reset_index(drop=True)\n",
    "DF_retro_final.head()"
   ]
  },
  {
   "cell_type": "markdown",
   "metadata": {},
   "source": [
    "### Original Data Statistics"
   ]
  },
  {
   "cell_type": "code",
   "execution_count": 71,
   "metadata": {
    "collapsed": false,
    "scrolled": true
   },
   "outputs": [
    {
     "name": "stdout",
     "output_type": "stream",
     "text": [
      "Original total number of experiments: 11533\n",
      "Original total number of proteins: 4759\n"
     ]
    }
   ],
   "source": [
    "print 'Original total number of experiments:',len(DF_retro_final)\n",
    "print 'Original total number of proteins:',len(DF_retro_final.uniprot_id.unique())"
   ]
  },
  {
   "cell_type": "code",
   "execution_count": 72,
   "metadata": {
    "collapsed": false
   },
   "outputs": [
    {
     "name": "stdout",
     "output_type": "stream",
     "text": [
      "Original Number of passed experiments: 5680\n",
      "Original Pass rate: 49.25%\n",
      "Number of proteins with >1 high expression: 3572\n"
     ]
    }
   ],
   "source": [
    "print 'Original Number of passed experiments:',len(DF_retro_final[DF_retro_final.expressed])\n",
    "print 'Original Pass rate: %.2f%%'%(np.true_divide(len(DF_retro_final[DF_retro_final.expressed]),len(DF_retro_final))*100)\n",
    "print 'Number of proteins with >1 high expression:',len(DF_retro_final[DF_retro_final.expressed].uniprot_id.unique())"
   ]
  },
  {
   "cell_type": "code",
   "execution_count": 86,
   "metadata": {
    "collapsed": false,
    "scrolled": true
   },
   "outputs": [
    {
     "name": "stdout",
     "output_type": "stream",
     "text": [
      "True positive: 4334\n"
     ]
    }
   ],
   "source": [
    "print 'True positive:', len(DF_retro_final[(DF_retro_final.ens_score > .5) & (DF_retro_final.expressed)])"
   ]
  },
  {
   "cell_type": "code",
   "execution_count": 87,
   "metadata": {
    "collapsed": false
   },
   "outputs": [
    {
     "name": "stdout",
     "output_type": "stream",
     "text": [
      "False Positive: 2295\n"
     ]
    }
   ],
   "source": [
    "print 'False Positive:',len(DF_retro_final[(DF_retro_final.ens_score > .5) & (DF_retro_final.expressed==False)])"
   ]
  },
  {
   "cell_type": "code",
   "execution_count": 88,
   "metadata": {
    "collapsed": false
   },
   "outputs": [
    {
     "name": "stdout",
     "output_type": "stream",
     "text": [
      "True Negative: 3558\n"
     ]
    }
   ],
   "source": [
    "print 'True Negative:',len(DF_retro_final[(DF_retro_final.ens_score < .5) & (DF_retro_final.expressed==False)])"
   ]
  },
  {
   "cell_type": "code",
   "execution_count": 89,
   "metadata": {
    "collapsed": false,
    "scrolled": false
   },
   "outputs": [
    {
     "name": "stdout",
     "output_type": "stream",
     "text": [
      "False Negative: 1346\n"
     ]
    }
   ],
   "source": [
    "print 'False Negative:',len(DF_retro_final[(DF_retro_final.ens_score < .5) & (DF_retro_final.expressed)])"
   ]
  },
  {
   "cell_type": "markdown",
   "metadata": {},
   "source": [
    "### Grab only the top predicted prESTs for each protein"
   ]
  },
  {
   "cell_type": "code",
   "execution_count": 79,
   "metadata": {
    "collapsed": false
   },
   "outputs": [
    {
     "name": "stdout",
     "output_type": "stream",
     "text": [
      "Iteration 0\n",
      "Total number of proposed experiments: 4759\n",
      "Total number of expressed proteins: 2947\n",
      "Overall pass rate: 0.619247741122\n",
      "\n",
      "Iteration 1\n",
      "Total number of proposed experiments: 6571\n",
      "Total number of expressed proteins: 3490\n",
      "Overall pass rate: 0.531121594887\n",
      "\n",
      "Iteration 2\n",
      "Total number of proposed experiments: 6987\n",
      "Total number of expressed proteins: 3565\n",
      "Overall pass rate: 0.510233290396\n",
      "\n",
      "Iteration 3\n",
      "Total number of proposed experiments: 7069\n",
      "Total number of expressed proteins: 3572\n",
      "Overall pass rate: 0.505304852171\n",
      "\n",
      "Iteration 4\n",
      "Total number of proposed experiments: 7069\n",
      "Total number of expressed proteins: 3572\n",
      "Overall pass rate: 0.505304852171\n",
      "\n",
      "Percent saved experiments: 38.7063209919 %\n"
     ]
    }
   ],
   "source": [
    "n = 5\n",
    "np.random.seed(0)\n",
    "\n",
    "output_df = pd.DataFrame(columns=['prest_id','uniprot_id','expressed','ens_score','aa_seq'])\n",
    "remaining_df = DF_retro_final.copy()\n",
    "\n",
    "for i in range(n):\n",
    "    print 'Iteration',i\n",
    "    new_output_df = remaining_df.sort_values(['uniprot_id','ens_score'],ascending=[1,0]).drop_duplicates('uniprot_id')\n",
    "    output_df = pd.concat([output_df,new_output_df])\n",
    "   \n",
    "    pred_pos_proteins = set(output_df[output_df.ens_score > 0.5].uniprot_id)\n",
    "    true_pos_proteins = set(output_df[output_df.expressed].uniprot_id)\n",
    "    print 'Total number of proposed experiments:',len(output_df)\n",
    "    print 'Total number of expressed proteins:',len(true_pos_proteins)\n",
    "    print 'Overall pass rate:',np.true_divide(len(true_pos_proteins),len(output_df))\n",
    "\n",
    "    # Prepare for next iteration\n",
    "    remaining_df = remaining_df.drop(new_output_df.index)\n",
    "    remaining_df = remaining_df[remaining_df.uniprot_id.isin(true_pos_proteins)==False]\n",
    "\n",
    "    print\n",
    "print 'Percent saved experiments:',(1 - np.true_divide(len(output_df),len(DF_retro_final)))*100,'%'\n"
   ]
  }
 ],
 "metadata": {
  "kernelspec": {
   "display_name": "Python 2",
   "language": "python",
   "name": "python2"
  },
  "language_info": {
   "codemirror_mode": {
    "name": "ipython",
    "version": 2
   },
   "file_extension": ".py",
   "mimetype": "text/x-python",
   "name": "python",
   "nbconvert_exporter": "python",
   "pygments_lexer": "ipython2",
   "version": "2.7.12"
  }
 },
 "nbformat": 4,
 "nbformat_minor": 0
}
