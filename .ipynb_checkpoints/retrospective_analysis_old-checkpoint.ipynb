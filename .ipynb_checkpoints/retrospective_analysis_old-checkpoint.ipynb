{
 "cells": [
  {
   "cell_type": "markdown",
   "metadata": {},
   "source": [
    "1. Remove prESTs with concentrations between 25-75%\n",
    "2. Isolate only uniprots with n = 1-4\n",
    "2. Create test set: uniprots with n = 1, and 50% of n = 2-4\n",
    "3. Training set is all else\n",
    "4. Train ML algorithm\n",
    "5. Pick best items from training set"
   ]
  },
  {
   "cell_type": "code",
   "execution_count": 52,
   "metadata": {
    "collapsed": true
   },
   "outputs": [],
   "source": [
    "%matplotlib inline\n",
    "import pandas as pd\n",
    "import numpy as np\n",
    "import os\n",
    "import matplotlib.pyplot as plt\n",
    "import seaborn as sns\n",
    "import sklearn\n",
    "import random\n",
    "from tqdm import *"
   ]
  },
  {
   "cell_type": "code",
   "execution_count": 3,
   "metadata": {
    "collapsed": true
   },
   "outputs": [],
   "source": [
    "# ROOT_DIR - root directory\n",
    "ROOT_DIR = os.getcwd()+'/'\n",
    "\n",
    "# FEATURE_DIR - directory where feature dataframes are saved\n",
    "DATA_DIR = ROOT_DIR + 'dataframes/'"
   ]
  },
  {
   "cell_type": "markdown",
   "metadata": {},
   "source": [
    "### Import dataframes"
   ]
  },
  {
   "cell_type": "code",
   "execution_count": 7,
   "metadata": {
    "collapsed": false
   },
   "outputs": [
    {
     "name": "stdout",
     "output_type": "stream",
     "text": [
      "Number of prESTs: 45206\n"
     ]
    },
    {
     "data": {
      "text/html": [
       "<div>\n",
       "<table border=\"1\" class=\"dataframe\">\n",
       "  <thead>\n",
       "    <tr style=\"text-align: right;\">\n",
       "      <th></th>\n",
       "      <th>prest_id</th>\n",
       "      <th>uniprot_id</th>\n",
       "      <th>conc_cf</th>\n",
       "      <th>aa_seq</th>\n",
       "      <th>nt_seq</th>\n",
       "      <th>aa_len</th>\n",
       "      <th>true_nt_seq</th>\n",
       "      <th>AAA</th>\n",
       "      <th>AAT</th>\n",
       "      <th>AAC</th>\n",
       "      <th>...</th>\n",
       "      <th>disembl_HOTLOOPS_frac</th>\n",
       "      <th>ronn_avg</th>\n",
       "      <th>ronn_results</th>\n",
       "      <th>ronn_frac</th>\n",
       "      <th>disopred_results</th>\n",
       "      <th>disopred_avg</th>\n",
       "      <th>disopred_pb_results</th>\n",
       "      <th>disopred_pb_avg</th>\n",
       "      <th>disopred_frac</th>\n",
       "      <th>disopred_pb_frac</th>\n",
       "    </tr>\n",
       "  </thead>\n",
       "  <tbody>\n",
       "    <tr>\n",
       "      <th>0</th>\n",
       "      <td>140095</td>\n",
       "      <td>G3V3N0</td>\n",
       "      <td>4.3075</td>\n",
       "      <td>IMTAPSSFEQFKVAMNYLQLYNVPDCLEDIQDADCSSSKCSSSASS...</td>\n",
       "      <td>GACAAGCTTGCGGCCGCAATTATGACAGCTCCCTCCAGTTTTGAGC...</td>\n",
       "      <td>139</td>\n",
       "      <td>ATTATGACAGCTCCCTCCAGTTTTGAGCAGTTTAAAGTGGCAATGA...</td>\n",
       "      <td>0.057554</td>\n",
       "      <td>0.043165</td>\n",
       "      <td>0.021583</td>\n",
       "      <td>...</td>\n",
       "      <td>0.410072</td>\n",
       "      <td>0.495827</td>\n",
       "      <td>imtapssfeqfkvamnylqlynvpdclediqDADCSSSKCSSSASS...</td>\n",
       "      <td>0.482014</td>\n",
       "      <td>ImtapssfeqfkvamnylqlynvpdclediqdadcsSSKCSSSASS...</td>\n",
       "      <td>0.387050</td>\n",
       "      <td>-...................................^^^^^^^^^^...</td>\n",
       "      <td>0.317770</td>\n",
       "      <td>0.388489</td>\n",
       "      <td>0.359712</td>\n",
       "    </tr>\n",
       "    <tr>\n",
       "      <th>1</th>\n",
       "      <td>140099</td>\n",
       "      <td>G3V537</td>\n",
       "      <td>2.9154</td>\n",
       "      <td>TYYAWKHELLGSGTCPALPPREVLGMEELEKLPEEQVAEEELECSA...</td>\n",
       "      <td>GACAAGCTTGCGGCCGCAACCTACTATGCCTGGAAGCATGAGCTGC...</td>\n",
       "      <td>144</td>\n",
       "      <td>ACCTACTATGCCTGGAAGCATGAGCTGCTGGGCTCTGGCACCTGCC...</td>\n",
       "      <td>0.006944</td>\n",
       "      <td>0.013889</td>\n",
       "      <td>0.013889</td>\n",
       "      <td>...</td>\n",
       "      <td>0.388889</td>\n",
       "      <td>0.488125</td>\n",
       "      <td>tyyawkhellGSGTcPALPPREVLGMEELEKLPEEQVAEEELECSa...</td>\n",
       "      <td>0.493056</td>\n",
       "      <td>tyyawkhellgsgtCPALPPREVLGMEELEKLPEEQVAEEELECSA...</td>\n",
       "      <td>0.421597</td>\n",
       "      <td>..............^^^^^^--^^^^^^^^^^^^^^^^^^^-^^^^...</td>\n",
       "      <td>0.352917</td>\n",
       "      <td>0.465278</td>\n",
       "      <td>0.423611</td>\n",
       "    </tr>\n",
       "    <tr>\n",
       "      <th>2</th>\n",
       "      <td>140225</td>\n",
       "      <td>P12724</td>\n",
       "      <td>1.4877</td>\n",
       "      <td>SLHARPPQFTRAQWFAIQHISLNPPRCTIAMRAINNYRWRCKNQNT...</td>\n",
       "      <td>GACAAGCTTGCGGCCGCATCACTCCATGCCAGACCCCCACAGTTTA...</td>\n",
       "      <td>136</td>\n",
       "      <td>TCACTCCATGCCAGACCCCCACAGTTTACGAGGGCTCAGTGGTTTG...</td>\n",
       "      <td>0.007353</td>\n",
       "      <td>0.051471</td>\n",
       "      <td>0.058824</td>\n",
       "      <td>...</td>\n",
       "      <td>0.338235</td>\n",
       "      <td>0.368750</td>\n",
       "      <td>SLharppqftraqwfaiqhislnpprctiamrainnyrwrcknqnt...</td>\n",
       "      <td>0.058824</td>\n",
       "      <td>slharppqftraqwfaiqhislnpprctiamrainnyrwrcknqnt...</td>\n",
       "      <td>0.034338</td>\n",
       "      <td>.................................................</td>\n",
       "      <td>0.000000</td>\n",
       "      <td>0.000000</td>\n",
       "      <td>0.000000</td>\n",
       "    </tr>\n",
       "    <tr>\n",
       "      <th>3</th>\n",
       "      <td>140235</td>\n",
       "      <td>H0YH02</td>\n",
       "      <td>6.7224</td>\n",
       "      <td>ARALNESKRVNNGNTAPEDSSPAKKTRRCQRQESKKMPVAGGKANK...</td>\n",
       "      <td>GACAAGCTTGCGGCCGCAGCGAGAGCATTAAATGAAAGCAAAAGAG...</td>\n",
       "      <td>123</td>\n",
       "      <td>GCGAGAGCATTAAATGAAAGCAAAAGAGTTAATAATGGCAACACGG...</td>\n",
       "      <td>0.040650</td>\n",
       "      <td>0.056911</td>\n",
       "      <td>0.040650</td>\n",
       "      <td>...</td>\n",
       "      <td>0.552846</td>\n",
       "      <td>0.571382</td>\n",
       "      <td>ARALNESKRVNNGNTAPEDSSPAKKTRRCQRQESKKMPVAGGKANK...</td>\n",
       "      <td>0.536585</td>\n",
       "      <td>ARALNESKRVNNGNTAPEDSSPAKKTRRCQRQESKKMPVAGGKANK...</td>\n",
       "      <td>0.425366</td>\n",
       "      <td>^^^^^^^^^^^^^^^-^---^-^^^^^^^^^^^^^--^^^^^^^^^...</td>\n",
       "      <td>0.295122</td>\n",
       "      <td>0.430894</td>\n",
       "      <td>0.373984</td>\n",
       "    </tr>\n",
       "    <tr>\n",
       "      <th>4</th>\n",
       "      <td>140309</td>\n",
       "      <td>F5GYC5</td>\n",
       "      <td>3.3848</td>\n",
       "      <td>HRKEPGARLEATRGAARPHKQGTKPMITRPSVSQLGEGKCPSSQHL...</td>\n",
       "      <td>GACAAGCTTGCGGCCGCACATCGGAAAGAGCCTGGGGCAAGGCTGG...</td>\n",
       "      <td>124</td>\n",
       "      <td>CATCGGAAAGAGCCTGGGGCAAGGCTGGAGGCCACAAGAGGAGCTG...</td>\n",
       "      <td>0.032258</td>\n",
       "      <td>0.008065</td>\n",
       "      <td>0.008065</td>\n",
       "      <td>...</td>\n",
       "      <td>0.274194</td>\n",
       "      <td>0.556613</td>\n",
       "      <td>HRKEPGARLEATRGAARPHKQGTKPMITRPSVSQLGEGKCPSSQHL...</td>\n",
       "      <td>0.620968</td>\n",
       "      <td>HRKEPGARLEATRGAARPHKQGTkpmitrpsvsqlgegkcpssqhl...</td>\n",
       "      <td>0.236613</td>\n",
       "      <td>^^^^^^^^^^^^^^^^^^^^^^^^.........................</td>\n",
       "      <td>0.185726</td>\n",
       "      <td>0.201613</td>\n",
       "      <td>0.209677</td>\n",
       "    </tr>\n",
       "  </tbody>\n",
       "</table>\n",
       "<p>5 rows × 164 columns</p>\n",
       "</div>"
      ],
      "text/plain": [
       "   prest_id uniprot_id  conc_cf  \\\n",
       "0    140095     G3V3N0   4.3075   \n",
       "1    140099     G3V537   2.9154   \n",
       "2    140225     P12724   1.4877   \n",
       "3    140235     H0YH02   6.7224   \n",
       "4    140309     F5GYC5   3.3848   \n",
       "\n",
       "                                              aa_seq  \\\n",
       "0  IMTAPSSFEQFKVAMNYLQLYNVPDCLEDIQDADCSSSKCSSSASS...   \n",
       "1  TYYAWKHELLGSGTCPALPPREVLGMEELEKLPEEQVAEEELECSA...   \n",
       "2  SLHARPPQFTRAQWFAIQHISLNPPRCTIAMRAINNYRWRCKNQNT...   \n",
       "3  ARALNESKRVNNGNTAPEDSSPAKKTRRCQRQESKKMPVAGGKANK...   \n",
       "4  HRKEPGARLEATRGAARPHKQGTKPMITRPSVSQLGEGKCPSSQHL...   \n",
       "\n",
       "                                              nt_seq  aa_len  \\\n",
       "0  GACAAGCTTGCGGCCGCAATTATGACAGCTCCCTCCAGTTTTGAGC...     139   \n",
       "1  GACAAGCTTGCGGCCGCAACCTACTATGCCTGGAAGCATGAGCTGC...     144   \n",
       "2  GACAAGCTTGCGGCCGCATCACTCCATGCCAGACCCCCACAGTTTA...     136   \n",
       "3  GACAAGCTTGCGGCCGCAGCGAGAGCATTAAATGAAAGCAAAAGAG...     123   \n",
       "4  GACAAGCTTGCGGCCGCACATCGGAAAGAGCCTGGGGCAAGGCTGG...     124   \n",
       "\n",
       "                                         true_nt_seq       AAA       AAT  \\\n",
       "0  ATTATGACAGCTCCCTCCAGTTTTGAGCAGTTTAAAGTGGCAATGA...  0.057554  0.043165   \n",
       "1  ACCTACTATGCCTGGAAGCATGAGCTGCTGGGCTCTGGCACCTGCC...  0.006944  0.013889   \n",
       "2  TCACTCCATGCCAGACCCCCACAGTTTACGAGGGCTCAGTGGTTTG...  0.007353  0.051471   \n",
       "3  GCGAGAGCATTAAATGAAAGCAAAAGAGTTAATAATGGCAACACGG...  0.040650  0.056911   \n",
       "4  CATCGGAAAGAGCCTGGGGCAAGGCTGGAGGCCACAAGAGGAGCTG...  0.032258  0.008065   \n",
       "\n",
       "        AAC        ...         disembl_HOTLOOPS_frac  ronn_avg  \\\n",
       "0  0.021583        ...                      0.410072  0.495827   \n",
       "1  0.013889        ...                      0.388889  0.488125   \n",
       "2  0.058824        ...                      0.338235  0.368750   \n",
       "3  0.040650        ...                      0.552846  0.571382   \n",
       "4  0.008065        ...                      0.274194  0.556613   \n",
       "\n",
       "                                        ronn_results  ronn_frac  \\\n",
       "0  imtapssfeqfkvamnylqlynvpdclediqDADCSSSKCSSSASS...   0.482014   \n",
       "1  tyyawkhellGSGTcPALPPREVLGMEELEKLPEEQVAEEELECSa...   0.493056   \n",
       "2  SLharppqftraqwfaiqhislnpprctiamrainnyrwrcknqnt...   0.058824   \n",
       "3  ARALNESKRVNNGNTAPEDSSPAKKTRRCQRQESKKMPVAGGKANK...   0.536585   \n",
       "4  HRKEPGARLEATRGAARPHKQGTKPMITRPSVSQLGEGKCPSSQHL...   0.620968   \n",
       "\n",
       "                                    disopred_results  disopred_avg  \\\n",
       "0  ImtapssfeqfkvamnylqlynvpdclediqdadcsSSKCSSSASS...      0.387050   \n",
       "1  tyyawkhellgsgtCPALPPREVLGMEELEKLPEEQVAEEELECSA...      0.421597   \n",
       "2  slharppqftraqwfaiqhislnpprctiamrainnyrwrcknqnt...      0.034338   \n",
       "3  ARALNESKRVNNGNTAPEDSSPAKKTRRCQRQESKKMPVAGGKANK...      0.425366   \n",
       "4  HRKEPGARLEATRGAARPHKQGTkpmitrpsvsqlgegkcpssqhl...      0.236613   \n",
       "\n",
       "                                 disopred_pb_results  disopred_pb_avg  \\\n",
       "0  -...................................^^^^^^^^^^...         0.317770   \n",
       "1  ..............^^^^^^--^^^^^^^^^^^^^^^^^^^-^^^^...         0.352917   \n",
       "2  .................................................         0.000000   \n",
       "3  ^^^^^^^^^^^^^^^-^---^-^^^^^^^^^^^^^--^^^^^^^^^...         0.295122   \n",
       "4  ^^^^^^^^^^^^^^^^^^^^^^^^.........................         0.185726   \n",
       "\n",
       "   disopred_frac  disopred_pb_frac  \n",
       "0       0.388489          0.359712  \n",
       "1       0.465278          0.423611  \n",
       "2       0.000000          0.000000  \n",
       "3       0.430894          0.373984  \n",
       "4       0.201613          0.209677  \n",
       "\n",
       "[5 rows x 164 columns]"
      ]
     },
     "execution_count": 7,
     "metadata": {},
     "output_type": "execute_result"
    }
   ],
   "source": [
    "DF_prest = pd.read_csv(DATA_DIR+'DF_prest_features.csv',index_col=0)\n",
    "print 'Number of prESTs:', len(DF_prest_features)\n",
    "DF_prest.head()"
   ]
  },
  {
   "cell_type": "markdown",
   "metadata": {},
   "source": [
    "As in the classification workflow, only keep highest and lowest concentrations"
   ]
  },
  {
   "cell_type": "code",
   "execution_count": 12,
   "metadata": {
    "collapsed": false
   },
   "outputs": [],
   "source": [
    "min_expressed = np.percentile(DF_prest['conc_cf'],75)\n",
    "max_not_expressed = np.percentile(DF_prest['conc_cf'],25)\n",
    "\n",
    "DF_prest_filtered = DF_prest[(DF_prest['conc_cf'] > min_expressed) | (DF_prest['conc_cf'] < max_not_expressed)]"
   ]
  },
  {
   "cell_type": "code",
   "execution_count": 13,
   "metadata": {
    "collapsed": false,
    "scrolled": true
   },
   "outputs": [
    {
     "name": "stdout",
     "output_type": "stream",
     "text": [
      "Number expressed: 11301\n",
      "Number not expressed: 11302\n",
      "Min expression cutoff: 7.2576\n",
      "Max nonexpression: 3.269225\n"
     ]
    }
   ],
   "source": [
    "print 'Number expressed:',len(DF_prest_filtered[DF_prest_filtered['conc_cf']>min_expressed])\n",
    "print 'Number not expressed:',len(DF_prest_filtered[DF_prest_filtered['conc_cf']<max_not_expressed])\n",
    "print 'Min expression cutoff:',min_expressed\n",
    "print 'Max nonexpression:',max_not_expressed"
   ]
  },
  {
   "cell_type": "markdown",
   "metadata": {},
   "source": [
    "### Select Features"
   ]
  },
  {
   "cell_type": "code",
   "execution_count": 46,
   "metadata": {
    "collapsed": true
   },
   "outputs": [],
   "source": [
    "aa_features = ['list_comp_A','list_comp_R','list_comp_N',\n",
    "               'list_comp_D','list_comp_C','list_comp_Q','list_comp_E','list_comp_G',\n",
    "               'list_comp_H','list_comp_I','list_comp_L','list_comp_K','list_comp_M',\n",
    "               'list_comp_F','list_comp_P','list_comp_S','list_comp_T','list_comp_W',\n",
    "               'list_comp_Y','list_comp_V',\n",
    "               # Amino acid types\n",
    "               'frac_aliphatic', 'frac_aromatic', 'frac_uncharged_polar', 'frac_polar',\n",
    "               'frac_hydrophobic', 'frac_positive', 'frac_sulfur', 'frac_negative', 'frac_amide',\n",
    "               'frac_alcohol']\n",
    "\n",
    "disorder_features = ['disembl_COILS_frac','disembl_REM465_frac','disembl_HOTLOOPS_frac','ronn_avg','ronn_frac',\n",
    "                    'disopred_avg','disopred_pb_avg','disopred_frac','disopred_pb_frac']\n",
    "\n",
    "                    \n",
    "phys_features = ['aa_len',                                        \n",
    "                # Physical properties\n",
    "                 'bio_pI','bio_mW','bio_aromaticity','bio_instability','bio_gravy','abs_avg_charge','abs_charge',\n",
    "                 'avg_charge']\n",
    "                    \n",
    "rna_features = ['AAA','AAC','AAT','AAG','ACA','ACC','ACT','ACG','ATA','ATC','ATT','ATG','AGA','AGC','AGT',\n",
    "                'AGG','CAA','CAC','CAT','CAG','CCA','CCC','CCT','CCG','CTA','CTC','CTT','CTG','CGA','CGC',\n",
    "                'CGT','CGG','TAA','TAC','TAT','TAG','TCA','TCC','TCT','TCG','TTA','TTC','TTT','TTG','TGA',\n",
    "                'TGC','TGT','TGG','GAA','GAC','GAT','GAG','GCA','GCC','GCT','GCG','GTA','GTC','GTT','GTG',\n",
    "                'GGA','GGC','GGT','GGG',\n",
    "                'GC_content','list_nuc_A','list_nuc_C','list_nuc_G','list_nuc_T',\n",
    "                'GC30',\n",
    "                # SD sequences\n",
    "                'sd_like_fwd','sd_like_fwd_frac','sd_like_rev','sd_like_rev_frac','sd_seq_fwd',\n",
    "                'sd_seq_fwd_frac','sd_seq_rev','sd_seq_rev_frac',\n",
    "                # RNA folding\n",
    "                'RNA_folding_energy','RNA_40_energy','tAI']\n",
    "                    \n",
    "ss_features = ['acc20_mean','ss_helix', 'ss_ext', 'ss_c', 'ss8_helix', 'ss8_ext', 'ss8_turn', 'ss8_helix3',\n",
    "               'ss8_pi_helix', 'ss8_bridge', 'ss8_bend', 'ss8_coil', 'acc_frac',\n",
    "               'in_gravy','out_gravy', 'acc_hydrophilic_in','acc_hydrophilic_out',\n",
    "               'acc_hydrophobic_in','acc_hydrophobic_out']\n",
    "\n",
    "list_of_features = aa_features+disorder_features+phys_features+rna_features+ss_features\n",
    "\n",
    "DF_prest_features = DF_prest_filtered[list_of_features]"
   ]
  },
  {
   "cell_type": "markdown",
   "metadata": {},
   "source": [
    "### HPA Data Landscape"
   ]
  },
  {
   "cell_type": "markdown",
   "metadata": {},
   "source": [
    "There are very few highly expressed proteins when there are >4 prESTs from the same uniprot, as these were peptides that were difficult to express"
   ]
  },
  {
   "cell_type": "code",
   "execution_count": 14,
   "metadata": {
    "collapsed": false
   },
   "outputs": [
    {
     "name": "stderr",
     "output_type": "stream",
     "text": []
    }
   ],
   "source": [
    "df_counts = pd.DataFrame(data=0,columns=['high','low'],index=set(DF_prest_filtered.groupby('uniprot_id').count().aa_seq))\n",
    "\n",
    "for name, group in tqdm(DF_prest_filtered.groupby('uniprot_id')):\n",
    "    n = len(group.conc_cf)\n",
    "    df_counts.loc[n,'high'] += sum(group.conc_cf > min_expressed)\n",
    "    df_counts.loc[n,'low'] += sum(group.conc_cf < max_not_expressed)"
   ]
  },
  {
   "cell_type": "code",
   "execution_count": 15,
   "metadata": {
    "collapsed": false
   },
   "outputs": [
    {
     "data": {
      "text/plain": [
       "<matplotlib.axes._subplots.AxesSubplot at 0x7fd90a004210>"
      ]
     },
     "execution_count": 15,
     "metadata": {},
     "output_type": "execute_result"
    },
    {
     "data": {
      "image/png": "[encoded data removed]",
      "text/plain": [
       "<matplotlib.figure.Figure at 0x7fd8f5ab4790>"
      ]
     },
     "metadata": {},
     "output_type": "display_data"
    },
    {
     "data": {
      "image/png": "[encoded data removed]",
      "text/plain": [
       "<matplotlib.figure.Figure at 0x7fd8e3d832d0>"
      ]
     },
     "metadata": {},
     "output_type": "display_data"
    }
   ],
   "source": [
    "df_counts.plot(kind='bar')\n",
    "df_counts[df_counts.index > 5].plot(kind='bar')"
   ]
  },
  {
   "cell_type": "markdown",
   "metadata": {},
   "source": [
    "# Differences between high and low on same protein"
   ]
  },
  {
   "cell_type": "code",
   "execution_count": 23,
   "metadata": {
    "collapsed": false
   },
   "outputs": [
    {
     "data": {
      "text/html": [
       "<div>\n",
       "<table border=\"1\" class=\"dataframe\">\n",
       "  <thead>\n",
       "    <tr style=\"text-align: right;\">\n",
       "      <th></th>\n",
       "      <th>prest_id</th>\n",
       "      <th>uniprot_id</th>\n",
       "      <th>conc_cf</th>\n",
       "      <th>aa_seq</th>\n",
       "      <th>nt_seq</th>\n",
       "      <th>aa_len</th>\n",
       "      <th>true_nt_seq</th>\n",
       "      <th>AAA</th>\n",
       "      <th>AAT</th>\n",
       "      <th>AAC</th>\n",
       "      <th>...</th>\n",
       "      <th>disembl_HOTLOOPS_frac</th>\n",
       "      <th>ronn_avg</th>\n",
       "      <th>ronn_results</th>\n",
       "      <th>ronn_frac</th>\n",
       "      <th>disopred_results</th>\n",
       "      <th>disopred_avg</th>\n",
       "      <th>disopred_pb_results</th>\n",
       "      <th>disopred_pb_avg</th>\n",
       "      <th>disopred_frac</th>\n",
       "      <th>disopred_pb_frac</th>\n",
       "    </tr>\n",
       "  </thead>\n",
       "  <tbody>\n",
       "    <tr>\n",
       "      <th>1</th>\n",
       "      <td>140099</td>\n",
       "      <td>G3V537</td>\n",
       "      <td>2.91540</td>\n",
       "      <td>TYYAWKHELLGSGTCPALPPREVLGMEELEKLPEEQVAEEELECSA...</td>\n",
       "      <td>GACAAGCTTGCGGCCGCAACCTACTATGCCTGGAAGCATGAGCTGC...</td>\n",
       "      <td>144</td>\n",
       "      <td>ACCTACTATGCCTGGAAGCATGAGCTGCTGGGCTCTGGCACCTGCC...</td>\n",
       "      <td>0.006944</td>\n",
       "      <td>0.013889</td>\n",
       "      <td>0.013889</td>\n",
       "      <td>...</td>\n",
       "      <td>0.388889</td>\n",
       "      <td>0.488125</td>\n",
       "      <td>tyyawkhellGSGTcPALPPREVLGMEELEKLPEEQVAEEELECSa...</td>\n",
       "      <td>0.493056</td>\n",
       "      <td>tyyawkhellgsgtCPALPPREVLGMEELEKLPEEQVAEEELECSA...</td>\n",
       "      <td>0.421597</td>\n",
       "      <td>..............^^^^^^--^^^^^^^^^^^^^^^^^^^-^^^^...</td>\n",
       "      <td>0.352917</td>\n",
       "      <td>0.465278</td>\n",
       "      <td>0.423611</td>\n",
       "    </tr>\n",
       "    <tr>\n",
       "      <th>2</th>\n",
       "      <td>140225</td>\n",
       "      <td>P12724</td>\n",
       "      <td>1.48770</td>\n",
       "      <td>SLHARPPQFTRAQWFAIQHISLNPPRCTIAMRAINNYRWRCKNQNT...</td>\n",
       "      <td>GACAAGCTTGCGGCCGCATCACTCCATGCCAGACCCCCACAGTTTA...</td>\n",
       "      <td>136</td>\n",
       "      <td>TCACTCCATGCCAGACCCCCACAGTTTACGAGGGCTCAGTGGTTTG...</td>\n",
       "      <td>0.007353</td>\n",
       "      <td>0.051471</td>\n",
       "      <td>0.058824</td>\n",
       "      <td>...</td>\n",
       "      <td>0.338235</td>\n",
       "      <td>0.368750</td>\n",
       "      <td>SLharppqftraqwfaiqhislnpprctiamrainnyrwrcknqnt...</td>\n",
       "      <td>0.058824</td>\n",
       "      <td>slharppqftraqwfaiqhislnpprctiamrainnyrwrcknqnt...</td>\n",
       "      <td>0.034338</td>\n",
       "      <td>.................................................</td>\n",
       "      <td>0.000000</td>\n",
       "      <td>0.000000</td>\n",
       "      <td>0.000000</td>\n",
       "    </tr>\n",
       "    <tr>\n",
       "      <th>5</th>\n",
       "      <td>140325</td>\n",
       "      <td>O43506</td>\n",
       "      <td>1.50290</td>\n",
       "      <td>FVGWWTHQRFVELVVVVDNIRYLFSQSNATTVQHEVFNVVNIVDSF...</td>\n",
       "      <td>GACAAGCTTGCGGCCGCATTTGTGGGCTGGTGGACCCATCAGCGGT...</td>\n",
       "      <td>137</td>\n",
       "      <td>TTTGTGGGCTGGTGGACCCATCAGCGGTTTGTTGAGCTGGTAGTGG...</td>\n",
       "      <td>0.014599</td>\n",
       "      <td>0.072993</td>\n",
       "      <td>0.021898</td>\n",
       "      <td>...</td>\n",
       "      <td>0.255474</td>\n",
       "      <td>0.310584</td>\n",
       "      <td>fvgwwthqrfvelvvvvdnirylfsqsnattvqhevfnvvnivdsf...</td>\n",
       "      <td>0.000000</td>\n",
       "      <td>fvgwwthqrfvelvvvvdnirylfsqsnattvqhevfnvvnivdsf...</td>\n",
       "      <td>0.015912</td>\n",
       "      <td>.................................................</td>\n",
       "      <td>0.000000</td>\n",
       "      <td>0.000000</td>\n",
       "      <td>0.000000</td>\n",
       "    </tr>\n",
       "    <tr>\n",
       "      <th>8</th>\n",
       "      <td>140354</td>\n",
       "      <td>O95072</td>\n",
       "      <td>0.92003</td>\n",
       "      <td>RRRLLFWDKETQISPEKFQEQLQTRAHCWECPMVQPPERTIRGPAE...</td>\n",
       "      <td>GACAAGCTTGCGGCCGCACGTCGCCGGTTACTGTTCTGGGACAAGG...</td>\n",
       "      <td>134</td>\n",
       "      <td>CGTCGCCGGTTACTGTTCTGGGACAAGGAGACTCAGATCTCCCCGG...</td>\n",
       "      <td>0.014925</td>\n",
       "      <td>0.000000</td>\n",
       "      <td>0.000000</td>\n",
       "      <td>...</td>\n",
       "      <td>0.440299</td>\n",
       "      <td>0.540448</td>\n",
       "      <td>rrrllfWDKETQISPEKFQEQLQTRAHCWEcPmvQPPERTIRGPae...</td>\n",
       "      <td>0.671642</td>\n",
       "      <td>Rrrllfwdketqispekfqeqlqtrahcwecpmvqppertirgpae...</td>\n",
       "      <td>0.271269</td>\n",
       "      <td>-................................................</td>\n",
       "      <td>0.191791</td>\n",
       "      <td>0.208955</td>\n",
       "      <td>0.201493</td>\n",
       "    </tr>\n",
       "    <tr>\n",
       "      <th>10</th>\n",
       "      <td>140500</td>\n",
       "      <td>C9J919</td>\n",
       "      <td>2.21830</td>\n",
       "      <td>MQQPPPQKVRINLQQQPPPLQIKSVPLPTLKMQTTLVPPTVESSPE...</td>\n",
       "      <td>GACAAGCTTGCGGCCGCAATGCAACAGCCTCCACCTCAGAAAGTTC...</td>\n",
       "      <td>140</td>\n",
       "      <td>ATGCAACAGCCTCCACCTCAGAAAGTTCGAATCAATTTACAGCAAC...</td>\n",
       "      <td>0.014286</td>\n",
       "      <td>0.021429</td>\n",
       "      <td>0.021429</td>\n",
       "      <td>...</td>\n",
       "      <td>0.428571</td>\n",
       "      <td>0.587714</td>\n",
       "      <td>MQQPPPQKVRINLQQQPPPLQIKSVPLPTLKMQTTLVPPTVESSPE...</td>\n",
       "      <td>0.771429</td>\n",
       "      <td>MQQPPPQKVRINLQQQPpplQIKsvplPtLKMQTTLVPPTVESSPE...</td>\n",
       "      <td>0.489143</td>\n",
       "      <td>^^^^^^^^^^^^^^^^^...^^^....-.----^-------^^^^^...</td>\n",
       "      <td>0.453500</td>\n",
       "      <td>0.585714</td>\n",
       "      <td>0.471429</td>\n",
       "    </tr>\n",
       "  </tbody>\n",
       "</table>\n",
       "<p>5 rows × 164 columns</p>\n",
       "</div>"
      ],
      "text/plain": [
       "    prest_id uniprot_id  conc_cf  \\\n",
       "1     140099     G3V537  2.91540   \n",
       "2     140225     P12724  1.48770   \n",
       "5     140325     O43506  1.50290   \n",
       "8     140354     O95072  0.92003   \n",
       "10    140500     C9J919  2.21830   \n",
       "\n",
       "                                               aa_seq  \\\n",
       "1   TYYAWKHELLGSGTCPALPPREVLGMEELEKLPEEQVAEEELECSA...   \n",
       "2   SLHARPPQFTRAQWFAIQHISLNPPRCTIAMRAINNYRWRCKNQNT...   \n",
       "5   FVGWWTHQRFVELVVVVDNIRYLFSQSNATTVQHEVFNVVNIVDSF...   \n",
       "8   RRRLLFWDKETQISPEKFQEQLQTRAHCWECPMVQPPERTIRGPAE...   \n",
       "10  MQQPPPQKVRINLQQQPPPLQIKSVPLPTLKMQTTLVPPTVESSPE...   \n",
       "\n",
       "                                               nt_seq  aa_len  \\\n",
       "1   GACAAGCTTGCGGCCGCAACCTACTATGCCTGGAAGCATGAGCTGC...     144   \n",
       "2   GACAAGCTTGCGGCCGCATCACTCCATGCCAGACCCCCACAGTTTA...     136   \n",
       "5   GACAAGCTTGCGGCCGCATTTGTGGGCTGGTGGACCCATCAGCGGT...     137   \n",
       "8   GACAAGCTTGCGGCCGCACGTCGCCGGTTACTGTTCTGGGACAAGG...     134   \n",
       "10  GACAAGCTTGCGGCCGCAATGCAACAGCCTCCACCTCAGAAAGTTC...     140   \n",
       "\n",
       "                                          true_nt_seq       AAA       AAT  \\\n",
       "1   ACCTACTATGCCTGGAAGCATGAGCTGCTGGGCTCTGGCACCTGCC...  0.006944  0.013889   \n",
       "2   TCACTCCATGCCAGACCCCCACAGTTTACGAGGGCTCAGTGGTTTG...  0.007353  0.051471   \n",
       "5   TTTGTGGGCTGGTGGACCCATCAGCGGTTTGTTGAGCTGGTAGTGG...  0.014599  0.072993   \n",
       "8   CGTCGCCGGTTACTGTTCTGGGACAAGGAGACTCAGATCTCCCCGG...  0.014925  0.000000   \n",
       "10  ATGCAACAGCCTCCACCTCAGAAAGTTCGAATCAATTTACAGCAAC...  0.014286  0.021429   \n",
       "\n",
       "         AAC        ...         disembl_HOTLOOPS_frac  ronn_avg  \\\n",
       "1   0.013889        ...                      0.388889  0.488125   \n",
       "2   0.058824        ...                      0.338235  0.368750   \n",
       "5   0.021898        ...                      0.255474  0.310584   \n",
       "8   0.000000        ...                      0.440299  0.540448   \n",
       "10  0.021429        ...                      0.428571  0.587714   \n",
       "\n",
       "                                         ronn_results  ronn_frac  \\\n",
       "1   tyyawkhellGSGTcPALPPREVLGMEELEKLPEEQVAEEELECSa...   0.493056   \n",
       "2   SLharppqftraqwfaiqhislnpprctiamrainnyrwrcknqnt...   0.058824   \n",
       "5   fvgwwthqrfvelvvvvdnirylfsqsnattvqhevfnvvnivdsf...   0.000000   \n",
       "8   rrrllfWDKETQISPEKFQEQLQTRAHCWEcPmvQPPERTIRGPae...   0.671642   \n",
       "10  MQQPPPQKVRINLQQQPPPLQIKSVPLPTLKMQTTLVPPTVESSPE...   0.771429   \n",
       "\n",
       "                                     disopred_results  disopred_avg  \\\n",
       "1   tyyawkhellgsgtCPALPPREVLGMEELEKLPEEQVAEEELECSA...      0.421597   \n",
       "2   slharppqftraqwfaiqhislnpprctiamrainnyrwrcknqnt...      0.034338   \n",
       "5   fvgwwthqrfvelvvvvdnirylfsqsnattvqhevfnvvnivdsf...      0.015912   \n",
       "8   Rrrllfwdketqispekfqeqlqtrahcwecpmvqppertirgpae...      0.271269   \n",
       "10  MQQPPPQKVRINLQQQPpplQIKsvplPtLKMQTTLVPPTVESSPE...      0.489143   \n",
       "\n",
       "                                  disopred_pb_results  disopred_pb_avg  \\\n",
       "1   ..............^^^^^^--^^^^^^^^^^^^^^^^^^^-^^^^...         0.352917   \n",
       "2   .................................................         0.000000   \n",
       "5   .................................................         0.000000   \n",
       "8   -................................................         0.191791   \n",
       "10  ^^^^^^^^^^^^^^^^^...^^^....-.----^-------^^^^^...         0.453500   \n",
       "\n",
       "    disopred_frac  disopred_pb_frac  \n",
       "1        0.465278          0.423611  \n",
       "2        0.000000          0.000000  \n",
       "5        0.000000          0.000000  \n",
       "8        0.208955          0.201493  \n",
       "10       0.585714          0.471429  \n",
       "\n",
       "[5 rows x 164 columns]"
      ]
     },
     "execution_count": 23,
     "metadata": {},
     "output_type": "execute_result"
    }
   ],
   "source": [
    "DF_prest_filtered.head()"
   ]
  },
  {
   "cell_type": "code",
   "execution_count": 31,
   "metadata": {
    "collapsed": false
   },
   "outputs": [
    {
     "data": {
      "text/html": [
       "<div>\n",
       "<table border=\"1\" class=\"dataframe\">\n",
       "  <thead>\n",
       "    <tr style=\"text-align: right;\">\n",
       "      <th></th>\n",
       "      <th>prest_id</th>\n",
       "      <th>uniprot_id</th>\n",
       "      <th>conc_cf</th>\n",
       "      <th>aa_seq</th>\n",
       "      <th>nt_seq</th>\n",
       "      <th>aa_len</th>\n",
       "      <th>true_nt_seq</th>\n",
       "      <th>AAA</th>\n",
       "      <th>AAT</th>\n",
       "      <th>AAC</th>\n",
       "      <th>...</th>\n",
       "      <th>disembl_HOTLOOPS_frac</th>\n",
       "      <th>ronn_avg</th>\n",
       "      <th>ronn_results</th>\n",
       "      <th>ronn_frac</th>\n",
       "      <th>disopred_results</th>\n",
       "      <th>disopred_avg</th>\n",
       "      <th>disopred_pb_results</th>\n",
       "      <th>disopred_pb_avg</th>\n",
       "      <th>disopred_frac</th>\n",
       "      <th>disopred_pb_frac</th>\n",
       "    </tr>\n",
       "  </thead>\n",
       "  <tbody>\n",
       "    <tr>\n",
       "      <th>544</th>\n",
       "      <td>1450167</td>\n",
       "      <td>A0A024R0Y4</td>\n",
       "      <td>10.5950</td>\n",
       "      <td>RYPKEVQDLYETMRRFARIVGPVEHDKFIESHALEFELRREIKRLQ...</td>\n",
       "      <td>CGGTATCCCAAGGAGGTCCAGGACCTGTATGAAACAATGAGGCGAT...</td>\n",
       "      <td>124</td>\n",
       "      <td>CGGTATCCCAAGGAGGTCCAGGACCTGTATGAAACAATGAGGCGAT...</td>\n",
       "      <td>0.016129</td>\n",
       "      <td>0.016129</td>\n",
       "      <td>0.000000</td>\n",
       "      <td>...</td>\n",
       "      <td>0.322581</td>\n",
       "      <td>0.467581</td>\n",
       "      <td>rypkevqdlyetmrrfarivgpvehdkfieshalefelrreikrlq...</td>\n",
       "      <td>0.346774</td>\n",
       "      <td>rypkevqdlyetmrrfarivgpvehdkfieshalefelrreikrlq...</td>\n",
       "      <td>0.366613</td>\n",
       "      <td>.................................................</td>\n",
       "      <td>0.310726</td>\n",
       "      <td>0.370968</td>\n",
       "      <td>0.346774</td>\n",
       "    </tr>\n",
       "    <tr>\n",
       "      <th>32595</th>\n",
       "      <td>3720661</td>\n",
       "      <td>A0A024R0Y4</td>\n",
       "      <td>8.9500</td>\n",
       "      <td>MDRLGPFSNDPSDKPPCRGCSSYLMEPYIKCAECGPPPFFLCLQCF...</td>\n",
       "      <td>GACAAGCTTGCGGCCGCAATGGACCGTTTGGGTCCCTTTAGCAATG...</td>\n",
       "      <td>67</td>\n",
       "      <td>ATGGACCGTTTGGGTCCCTTTAGCAATGATCCCTCTGATAAGCCAC...</td>\n",
       "      <td>0.014925</td>\n",
       "      <td>0.014925</td>\n",
       "      <td>0.000000</td>\n",
       "      <td>...</td>\n",
       "      <td>0.507463</td>\n",
       "      <td>0.453134</td>\n",
       "      <td>MDRLGPFSNDPSDKPpcrgcssylmepyikcaecgpppfflclqcf...</td>\n",
       "      <td>0.373134</td>\n",
       "      <td>MDRLGPFSndpsdkppcrgcssylmepyikcaecgpppfflclqcf...</td>\n",
       "      <td>0.133433</td>\n",
       "      <td>^^^^^^^^.........................................</td>\n",
       "      <td>0.112537</td>\n",
       "      <td>0.119403</td>\n",
       "      <td>0.119403</td>\n",
       "    </tr>\n",
       "    <tr>\n",
       "      <th>14490</th>\n",
       "      <td>2760138</td>\n",
       "      <td>A0A024R3W6</td>\n",
       "      <td>8.0053</td>\n",
       "      <td>PSGFNCNFDFLEEPCGWMYDHAKWLRTTWASSSSPNDRTFPDDRNF...</td>\n",
       "      <td>GACAAGCTTGCGGCCGCACCTTCGGGATTCAATTGCAACTTCGATT...</td>\n",
       "      <td>80</td>\n",
       "      <td>CCTTCGGGATTCAATTGCAACTTCGATTTCCTCGAGGAGCCCTGTG...</td>\n",
       "      <td>0.000000</td>\n",
       "      <td>0.025000</td>\n",
       "      <td>0.025000</td>\n",
       "      <td>...</td>\n",
       "      <td>0.425000</td>\n",
       "      <td>0.478125</td>\n",
       "      <td>psgfncnfdfleepcgwmydhakwlrtTWASSSSPNDRTFPDDRNF...</td>\n",
       "      <td>0.662500</td>\n",
       "      <td>psgfncnfdfleepcgwmydhakwlrttwasssspndrtfpddrnf...</td>\n",
       "      <td>0.077500</td>\n",
       "      <td>.................................................</td>\n",
       "      <td>0.000000</td>\n",
       "      <td>0.000000</td>\n",
       "      <td>0.000000</td>\n",
       "    </tr>\n",
       "    <tr>\n",
       "      <th>14488</th>\n",
       "      <td>2760136</td>\n",
       "      <td>A0A024R3W6</td>\n",
       "      <td>9.7247</td>\n",
       "      <td>LSLTFHTDMAVAKDGFSARYYLVHQEPLENFQCNVPLGMESGRIAN...</td>\n",
       "      <td>GACAAGCTTGCGGCCGCACTCTCCCTGACCTTTCACACGGACATGG...</td>\n",
       "      <td>85</td>\n",
       "      <td>CTCTCCCTGACCTTTCACACGGACATGGCGGTGGCCAAGGATGGCT...</td>\n",
       "      <td>0.000000</td>\n",
       "      <td>0.035294</td>\n",
       "      <td>0.035294</td>\n",
       "      <td>...</td>\n",
       "      <td>0.435294</td>\n",
       "      <td>0.458353</td>\n",
       "      <td>lsltfhtdmavakdgfsaryylvhqeplenfqcnvplgmesgriAN...</td>\n",
       "      <td>0.470588</td>\n",
       "      <td>Lsltfhtdmavakdgfsaryylvhqeplenfqcnvplgmesgrian...</td>\n",
       "      <td>0.100471</td>\n",
       "      <td>-................................................</td>\n",
       "      <td>0.024353</td>\n",
       "      <td>0.035294</td>\n",
       "      <td>0.023529</td>\n",
       "    </tr>\n",
       "    <tr>\n",
       "      <th>31036</th>\n",
       "      <td>3560251</td>\n",
       "      <td>A0A024R7N8</td>\n",
       "      <td>2.8500</td>\n",
       "      <td>TARLFRPLAKRCCLQPRDAAKMPES</td>\n",
       "      <td>GACAAGCTTGCGGCCGCAACTGCGCGCCTCTTTCGGCCCCTGGCGA...</td>\n",
       "      <td>25</td>\n",
       "      <td>ACTGCGCGCCTCTTTCGGCCCCTGGCGAAGCGGTGCTGCCTCCAGC...</td>\n",
       "      <td>0.000000</td>\n",
       "      <td>0.000000</td>\n",
       "      <td>0.000000</td>\n",
       "      <td>...</td>\n",
       "      <td>1.000000</td>\n",
       "      <td>0.499200</td>\n",
       "      <td>tarlfrplakrcclqprdaAKMPES</td>\n",
       "      <td>0.240000</td>\n",
       "      <td>TarlfrplakrcclqprdaakmpeS</td>\n",
       "      <td>0.147200</td>\n",
       "      <td>-.......................^</td>\n",
       "      <td>0.032800</td>\n",
       "      <td>0.080000</td>\n",
       "      <td>0.040000</td>\n",
       "    </tr>\n",
       "  </tbody>\n",
       "</table>\n",
       "<p>5 rows × 164 columns</p>\n",
       "</div>"
      ],
      "text/plain": [
       "       prest_id  uniprot_id  conc_cf  \\\n",
       "544     1450167  A0A024R0Y4  10.5950   \n",
       "32595   3720661  A0A024R0Y4   8.9500   \n",
       "14490   2760138  A0A024R3W6   8.0053   \n",
       "14488   2760136  A0A024R3W6   9.7247   \n",
       "31036   3560251  A0A024R7N8   2.8500   \n",
       "\n",
       "                                                  aa_seq  \\\n",
       "544    RYPKEVQDLYETMRRFARIVGPVEHDKFIESHALEFELRREIKRLQ...   \n",
       "32595  MDRLGPFSNDPSDKPPCRGCSSYLMEPYIKCAECGPPPFFLCLQCF...   \n",
       "14490  PSGFNCNFDFLEEPCGWMYDHAKWLRTTWASSSSPNDRTFPDDRNF...   \n",
       "14488  LSLTFHTDMAVAKDGFSARYYLVHQEPLENFQCNVPLGMESGRIAN...   \n",
       "31036                          TARLFRPLAKRCCLQPRDAAKMPES   \n",
       "\n",
       "                                                  nt_seq  aa_len  \\\n",
       "544    CGGTATCCCAAGGAGGTCCAGGACCTGTATGAAACAATGAGGCGAT...     124   \n",
       "32595  GACAAGCTTGCGGCCGCAATGGACCGTTTGGGTCCCTTTAGCAATG...      67   \n",
       "14490  GACAAGCTTGCGGCCGCACCTTCGGGATTCAATTGCAACTTCGATT...      80   \n",
       "14488  GACAAGCTTGCGGCCGCACTCTCCCTGACCTTTCACACGGACATGG...      85   \n",
       "31036  GACAAGCTTGCGGCCGCAACTGCGCGCCTCTTTCGGCCCCTGGCGA...      25   \n",
       "\n",
       "                                             true_nt_seq       AAA       AAT  \\\n",
       "544    CGGTATCCCAAGGAGGTCCAGGACCTGTATGAAACAATGAGGCGAT...  0.016129  0.016129   \n",
       "32595  ATGGACCGTTTGGGTCCCTTTAGCAATGATCCCTCTGATAAGCCAC...  0.014925  0.014925   \n",
       "14490  CCTTCGGGATTCAATTGCAACTTCGATTTCCTCGAGGAGCCCTGTG...  0.000000  0.025000   \n",
       "14488  CTCTCCCTGACCTTTCACACGGACATGGCGGTGGCCAAGGATGGCT...  0.000000  0.035294   \n",
       "31036  ACTGCGCGCCTCTTTCGGCCCCTGGCGAAGCGGTGCTGCCTCCAGC...  0.000000  0.000000   \n",
       "\n",
       "            AAC        ...         disembl_HOTLOOPS_frac  ronn_avg  \\\n",
       "544    0.000000        ...                      0.322581  0.467581   \n",
       "32595  0.000000        ...                      0.507463  0.453134   \n",
       "14490  0.025000        ...                      0.425000  0.478125   \n",
       "14488  0.035294        ...                      0.435294  0.458353   \n",
       "31036  0.000000        ...                      1.000000  0.499200   \n",
       "\n",
       "                                            ronn_results  ronn_frac  \\\n",
       "544    rypkevqdlyetmrrfarivgpvehdkfieshalefelrreikrlq...   0.346774   \n",
       "32595  MDRLGPFSNDPSDKPpcrgcssylmepyikcaecgpppfflclqcf...   0.373134   \n",
       "14490  psgfncnfdfleepcgwmydhakwlrtTWASSSSPNDRTFPDDRNF...   0.662500   \n",
       "14488  lsltfhtdmavakdgfsaryylvhqeplenfqcnvplgmesgriAN...   0.470588   \n",
       "31036                          tarlfrplakrcclqprdaAKMPES   0.240000   \n",
       "\n",
       "                                        disopred_results  disopred_avg  \\\n",
       "544    rypkevqdlyetmrrfarivgpvehdkfieshalefelrreikrlq...      0.366613   \n",
       "32595  MDRLGPFSndpsdkppcrgcssylmepyikcaecgpppfflclqcf...      0.133433   \n",
       "14490  psgfncnfdfleepcgwmydhakwlrttwasssspndrtfpddrnf...      0.077500   \n",
       "14488  Lsltfhtdmavakdgfsaryylvhqeplenfqcnvplgmesgrian...      0.100471   \n",
       "31036                          TarlfrplakrcclqprdaakmpeS      0.147200   \n",
       "\n",
       "                                     disopred_pb_results  disopred_pb_avg  \\\n",
       "544    .................................................         0.310726   \n",
       "32595  ^^^^^^^^.........................................         0.112537   \n",
       "14490  .................................................         0.000000   \n",
       "14488  -................................................         0.024353   \n",
       "31036                          -.......................^         0.032800   \n",
       "\n",
       "       disopred_frac  disopred_pb_frac  \n",
       "544         0.370968          0.346774  \n",
       "32595       0.119403          0.119403  \n",
       "14490       0.000000          0.000000  \n",
       "14488       0.035294          0.023529  \n",
       "31036       0.080000          0.040000  \n",
       "\n",
       "[5 rows x 164 columns]"
      ]
     },
     "execution_count": 31,
     "metadata": {},
     "output_type": "execute_result"
    }
   ],
   "source": [
    "uniprot_counts = DF_prest_filtered.groupby('uniprot_id').prest_id.count()\n",
    "uniprot_list = uniprot_counts[uniprot_counts > 1].index\n",
    "DF_mult_uniprot = DF_prest_filtered[DF_prest_filtered.uniprot_id.isin(uniprot_list)].sort_values('uniprot_id')\n",
    "DF_mult_uniprot.head()"
   ]
  },
  {
   "cell_type": "code",
   "execution_count": 43,
   "metadata": {
    "collapsed": false
   },
   "outputs": [
    {
     "name": "stderr",
     "output_type": "stream",
     "text": [
      "                                                     "
     ]
    },
    {
     "name": "stdout",
     "output_type": "stream",
     "text": [
      "Analyzing 3279 pairs\n"
     ]
    },
    {
     "name": "stderr",
     "output_type": "stream",
     "text": [
      "\r"
     ]
    }
   ],
   "source": [
    "keep = []\n",
    "for name,group in tqdm(DF_mult_uniprot.groupby('uniprot_id')):\n",
    "    if group.conc_cf.max() > min_expressed and group.conc_cf.min() < max_not_expressed:\n",
    "        keep.append(group.conc_cf.argmax())\n",
    "        keep.append(group.conc_cf.argmin())\n",
    "DF_uniprot_pairs = DF_mult_uniprot.loc[keep]\n",
    "print 'Analyzing',len(keep)/2,'pairs'"
   ]
  },
  {
   "cell_type": "markdown",
   "metadata": {},
   "source": [
    "Save file"
   ]
  },
  {
   "cell_type": "code",
   "execution_count": 67,
   "metadata": {
    "collapsed": false
   },
   "outputs": [],
   "source": [
    "DF_uniprot_pairs[['prest_id','uniprot_id','conc_cf',\n",
    "                  'aa_seq','nt_seq','aa_len','true_nt_seq']].to_csv(DATA_DIR+'DF_uniprot_pairs.csv')"
   ]
  },
  {
   "cell_type": "code",
   "execution_count": 50,
   "metadata": {
    "collapsed": false
   },
   "outputs": [
    {
     "name": "stdout",
     "output_type": "stream",
     "text": [
      "(6558, 148)\n",
      "[ 0.11942703  0.09952076]\n"
     ]
    }
   ],
   "source": [
    "from sklearn.preprocessing import StandardScaler\n",
    "from sklearn.decomposition import PCA\n",
    "\n",
    "pca = PCA(whiten=True)\n",
    "uniprot_pca = pca.fit_transform(StandardScaler().fit_transform(DF_uniprot_pairs[list_of_features]))\n",
    "\n",
    "print uniprot_pca.shape\n",
    "print pca.explained_variance_ratio_[:2]"
   ]
  },
  {
   "cell_type": "code",
   "execution_count": 61,
   "metadata": {
    "collapsed": false
   },
   "outputs": [],
   "source": [
    "y = (DF_uniprot_pairs.conc_cf > max_not_expressed).values"
   ]
  },
  {
   "cell_type": "code",
   "execution_count": 62,
   "metadata": {
    "collapsed": false
   },
   "outputs": [
    {
     "data": {
      "text/plain": [
       "<matplotlib.text.Text at 0x7fd8d1d14d10>"
      ]
     },
     "execution_count": 62,
     "metadata": {},
     "output_type": "execute_result"
    },
    {
     "data": {
      "image/png": "[encoded data removed]",
      "text/plain": [
       "<matplotlib.figure.Figure at 0x7fd8d1fe58d0>"
      ]
     },
     "metadata": {},
     "output_type": "display_data"
    }
   ],
   "source": [
    "fig,ax = plt.subplots(figsize=(10,7))\n",
    "\n",
    "cmap = sns.diverging_palette(220, 10, as_cmap=True)\n",
    "ax.scatter(uniprot_pca[:, 0], uniprot_pca[:, 1],c=y, edgecolor='none', alpha=0.5,\n",
    "            cmap=cmap)\n",
    "\n",
    "point1 = plt.Line2D(range(1), range(1), color=\"white\", marker='o', markerfacecolor=sns.diverging_palette(220, 10)[-1],alpha=0.7)\n",
    "point2 = plt.Line2D(range(1), range(1), color=\"white\", marker='o',markerfacecolor=sns.diverging_palette(220, 10)[0],alpha=0.7)\n",
    "\n",
    "ax.legend((point1,point2),('Highly expressed','Poorly expressed'),fontsize=12)\n",
    "ax.set_xlabel('PC 1 (11.8%)',fontsize=16)\n",
    "ax.set_ylabel('PC 2 (9.7%)',fontsize=16)"
   ]
  },
  {
   "cell_type": "markdown",
   "metadata": {},
   "source": [
    "### Continue"
   ]
  },
  {
   "cell_type": "markdown",
   "metadata": {},
   "source": [
    "Only keep proteins that have <5 prESTs per protein"
   ]
  },
  {
   "cell_type": "code",
   "execution_count": 19,
   "metadata": {
    "collapsed": false
   },
   "outputs": [],
   "source": [
    "low_num_uniprots = DF_prest_filtered.groupby('uniprot_id').count().aa_seq[DF_prest_filtered.groupby('uniprot_id').count().aa_seq < 5].index.tolist()\n",
    "DF_prest_filtered2 = DF_prest_filtered[DF_prest_filtered.uniprot_id.isin(low_num_uniprots)]"
   ]
  },
  {
   "cell_type": "code",
   "execution_count": 20,
   "metadata": {
    "collapsed": false
   },
   "outputs": [
    {
     "data": {
      "image/png": "[encoded data removed]",
      "text/plain": [
       "<matplotlib.figure.Figure at 0x7fd909e5ed50>"
      ]
     },
     "metadata": {},
     "output_type": "display_data"
    }
   ],
   "source": [
    "# Number of prESTs per protein\n",
    "pie_var = DF_prest_filtered2.groupby('uniprot_id').count().groupby('prest_id').count().aa_seq\n",
    "pie = (pie_var).plot(kind='pie',fontsize=10,figsize=(5,5),label='before')"
   ]
  },
  {
   "cell_type": "code",
   "execution_count": 21,
   "metadata": {
    "collapsed": false
   },
   "outputs": [
    {
     "data": {
      "text/plain": [
       "prest_id\n",
       "1    6354\n",
       "2    4122\n",
       "3    1712\n",
       "4     511\n",
       "Name: aa_seq, dtype: int64"
      ]
     },
     "execution_count": 21,
     "metadata": {},
     "output_type": "execute_result"
    }
   ],
   "source": [
    "pie_var"
   ]
  },
  {
   "cell_type": "markdown",
   "metadata": {},
   "source": [
    "### Create training and testing dataframe"
   ]
  },
  {
   "cell_type": "code",
   "execution_count": 70,
   "metadata": {
    "collapsed": false
   },
   "outputs": [],
   "source": [
    "# Get the number of prESTs per each uniprot\n",
    "uniprot_counts = DF_prest_filtered2.groupby('uniprot_id').count().prest_id\n",
    "\n",
    "# Add all uniprots with a single prEST to the training set\n",
    "training_uniprots = uniprot_counts[uniprot_counts == 1].index.tolist()\n",
    "\n",
    "# Randomly pick 1/4 of other uniprots and add them to training set\n",
    "random.seed(10)\n",
    "other_uniprots = uniprot_counts[uniprot_counts > 1].index.tolist()\n",
    "training_uniprots += random.sample(other_uniprots,len(other_uniprots)/4)\n",
    "\n",
    "# Add all remaining uniprots to test set\n",
    "testing_uniprots = list(set(uniprot_counts.index.tolist()) - set(training_uniprots))"
   ]
  },
  {
   "cell_type": "code",
   "execution_count": 72,
   "metadata": {
    "collapsed": false
   },
   "outputs": [
    {
     "name": "stdout",
     "output_type": "stream",
     "text": [
      "Total number of proteins: 12699\n",
      "Number of training proteins: 7940\n",
      "Number of testing proteins: 4759\n"
     ]
    }
   ],
   "source": [
    "print 'Total number of proteins:', len(DF_prest_filtered2.uniprot_id.unique())\n",
    "print 'Number of training proteins:', len(training_uniprots)\n",
    "print 'Number of testing proteins:', len(testing_uniprots)"
   ]
  },
  {
   "cell_type": "code",
   "execution_count": 73,
   "metadata": {
    "collapsed": false
   },
   "outputs": [
    {
     "name": "stdout",
     "output_type": "stream",
     "text": [
      "Training set size: 10245\n",
      "Testing set size: 11533\n"
     ]
    }
   ],
   "source": [
    "# Add all prESTs in training uniprots to training set\n",
    "DF_train = DF_prest_filtered2[DF_prest_filtered2.uniprot_id.isin(training_uniprots)]\n",
    "DF_train.loc[:,'status'] = ['Train']*len(DF_train)\n",
    "print 'Training set size:', len(DF_train)\n",
    "\n",
    "# Repeat for test set\n",
    "DF_test = DF_prest_filtered2[DF_prest_filtered2.uniprot_id.isin(testing_uniprots)]\n",
    "DF_test.loc[:,'status'] = ['Test']*len(DF_test)\n",
    "print 'Testing set size:', len(DF_test)"
   ]
  },
  {
   "cell_type": "markdown",
   "metadata": {},
   "source": [
    "# Create machine learning algorithm"
   ]
  },
  {
   "cell_type": "code",
   "execution_count": 74,
   "metadata": {
    "collapsed": false
   },
   "outputs": [
    {
     "name": "stdout",
     "output_type": "stream",
     "text": [
      "Size of final dataset: 21778\n"
     ]
    }
   ],
   "source": [
    "DF_prest_final = pd.concat([DF_train,DF_test],axis=0)\n",
    "print 'Size of final dataset:',len(DF_prest_final)"
   ]
  },
  {
   "cell_type": "code",
   "execution_count": 75,
   "metadata": {
    "collapsed": false
   },
   "outputs": [],
   "source": [
    "df = DF_prest_final\n",
    "\n",
    "val_no_expr = DF_prest_filtered['conc_cf'].mean()\n",
    "\n",
    "exp_list =[]\n",
    "for i in df['conc_cf'].tolist():\n",
    "    if float(i) > val_no_expr:\n",
    "        exp_list.append(1)\n",
    "    else:\n",
    "        exp_list.append(0)\n",
    "\n",
    "aa_features = ['list_comp_A','list_comp_R','list_comp_N',\n",
    "               'list_comp_D','list_comp_C','list_comp_Q','list_comp_E','list_comp_G',\n",
    "               'list_comp_H','list_comp_I','list_comp_L','list_comp_K','list_comp_M',\n",
    "               'list_comp_F','list_comp_P','list_comp_S','list_comp_T','list_comp_W',\n",
    "               'list_comp_Y','list_comp_V',\n",
    "               # Amino acid types\n",
    "               'frac_aliphatic', 'frac_aromatic', 'frac_uncharged_polar', 'frac_polar',\n",
    "               'frac_hydrophobic', 'frac_positive', 'frac_sulfur', 'frac_negative', 'frac_amide',\n",
    "               'frac_alcohol']\n",
    "\n",
    "disorder_features = ['disembl_COILS_frac','disembl_REM465_frac','disembl_HOTLOOPS_frac','ronn_avg','ronn_frac',\n",
    "                    'disopred_avg','disopred_pb_avg','disopred_frac','disopred_pb_frac']\n",
    "                    \n",
    "phys_features = ['aa_len',                                        \n",
    "                # Physical properties\n",
    "                 'bio_pI','bio_mW','bio_aromaticity','bio_instability','bio_gravy','abs_avg_charge','abs_charge',\n",
    "                 'avg_charge']\n",
    "                    \n",
    "rna_features = ['AAA','AAC','AAT','AAG','ACA','ACC','ACT','ACG','ATA','ATC','ATT','ATG','AGA','AGC','AGT',\n",
    "                'AGG','CAA','CAC','CAT','CAG','CCA','CCC','CCT','CCG','CTA','CTC','CTT','CTG','CGA','CGC',\n",
    "                'CGT','CGG','TAA','TAC','TAT','TAG','TCA','TCC','TCT','TCG','TTA','TTC','TTT','TTG','TGA',\n",
    "                'TGC','TGT','TGG','GAA','GAC','GAT','GAG','GCA','GCC','GCT','GCG','GTA','GTC','GTT','GTG',\n",
    "                'GGA','GGC','GGT','GGG',\n",
    "                'GC_content','list_nuc_A','list_nuc_C','list_nuc_G','list_nuc_T',\n",
    "                'GC30',\n",
    "                # SD sequences\n",
    "                'sd_like_fwd','sd_like_fwd_frac','sd_like_rev','sd_like_rev_frac','sd_seq_fwd',\n",
    "                'sd_seq_fwd_frac','sd_seq_rev','sd_seq_rev_frac',\n",
    "                # RNA folding\n",
    "                'RNA_folding_energy','RNA_40_energy','tAI']\n",
    "                    \n",
    "ss_features = ['acc20_mean','ss_helix', 'ss_ext', 'ss_c', 'ss8_helix', 'ss8_ext', 'ss8_turn', 'ss8_helix3',\n",
    "               'ss8_pi_helix', 'ss8_bridge', 'ss8_bend', 'ss8_coil', 'acc_frac',\n",
    "               'in_gravy','out_gravy', 'acc_hydrophilic_in','acc_hydrophilic_out',\n",
    "               'acc_hydrophobic_in','acc_hydrophobic_out']\n",
    "\n",
    "list_of_features = aa_features+disorder_features+phys_features+rna_features+ss_features+['status']\n",
    "\n",
    "features = list_of_features\n",
    "target = 'expressed?'\n",
    "df[target]=exp_list\n",
    "\n",
    "df_features = df[list_of_features]"
   ]
  },
  {
   "cell_type": "code",
   "execution_count": 76,
   "metadata": {
    "collapsed": false
   },
   "outputs": [
    {
     "name": "stdout",
     "output_type": "stream",
     "text": [
      "No. of samples = 21778\n",
      "No. of features = 149\n"
     ]
    }
   ],
   "source": [
    "X = df_features.values\n",
    "y = df[target].values\n",
    "n_samples, n_features = X.shape\n",
    "print(\"No. of samples = %d\" % n_samples)\n",
    "print(\"No. of features = %d\" % n_features)"
   ]
  },
  {
   "cell_type": "code",
   "execution_count": 77,
   "metadata": {
    "collapsed": false
   },
   "outputs": [],
   "source": [
    "X_train = X[X[:,-1]=='Train'][:,:-1]\n",
    "X_test = X[X[:,-1]=='Test'][:,:-1]\n",
    "y_train = y[X[:,-1]=='Train']\n",
    "y_test = y[X[:,-1]=='Test']"
   ]
  },
  {
   "cell_type": "markdown",
   "metadata": {},
   "source": [
    "### Machine learning Pipeline"
   ]
  },
  {
   "cell_type": "code",
   "execution_count": 78,
   "metadata": {
    "collapsed": false
   },
   "outputs": [],
   "source": [
    "from sklearn.pipeline import Pipeline\n",
    "from sklearn.preprocessing import Imputer\n",
    "from sklearn.preprocessing import StandardScaler\n",
    "from sklearn.feature_selection import SelectFromModel\n",
    "from sklearn.feature_selection import RFE\n",
    "from sklearn.grid_search import GridSearchCV\n",
    "\n",
    "\n",
    "from sklearn.ensemble import RandomForestClassifier\n",
    "from sklearn.svm import LinearSVC\n",
    "\n",
    "clf = Pipeline([\n",
    "        ('imp',Imputer(strategy='mean')),\n",
    "        ('scl', StandardScaler()),\n",
    "        ('clf', RandomForestClassifier(n_estimators=200,oob_score=True,n_jobs=-1,random_state=5))\n",
    "])\n",
    "\n",
    "params = {'clf__n_estimators': [100,200,500],\n",
    "          'clf__max_depth': [6,10,15,20],\n",
    "          'clf__min_samples_leaf': [1,2],\n",
    "          'clf__min_samples_split': [2,5]\n",
    "         }"
   ]
  },
  {
   "cell_type": "code",
   "execution_count": 79,
   "metadata": {
    "collapsed": false
   },
   "outputs": [
    {
     "name": "stdout",
     "output_type": "stream",
     "text": [
      "Initial Training Accuracy: 1.0\n",
      "Initial Testing Accuracy: 0.674932801526\n",
      "Fitting 3 folds for each of 48 candidates, totalling 144 fits\n"
     ]
    },
    {
     "name": "stderr",
     "output_type": "stream",
     "text": [
      "[Parallel(n_jobs=-1)]: Done  34 tasks      | elapsed:    6.1s\n",
      "[Parallel(n_jobs=-1)]: Done 144 out of 144 | elapsed:   28.5s finished\n"
     ]
    },
    {
     "name": "stdout",
     "output_type": "stream",
     "text": [
      "Final Training Accuracy: 1.0\n",
      "Final Testing Accuracy: 0.684123818607\n"
     ]
    }
   ],
   "source": [
    "clf.fit(X_train,y_train)\n",
    "print 'Initial Training Accuracy:',clf.score(X_train,y_train)\n",
    "print 'Initial Testing Accuracy:',clf.score(X_test,y_test)\n",
    "\n",
    "n_subsamples = 1000\n",
    "X_small_train, y_small_train = X_train[:n_subsamples], y_train[:n_subsamples]\n",
    "\n",
    "gs = GridSearchCV(clf,\n",
    "                  params,\n",
    "                  cv=3,\n",
    "                  verbose=1,\n",
    "                  scoring = 'roc_auc',\n",
    "                  error_score=0,\n",
    "                  n_jobs=-1)\n",
    "\n",
    "_ = gs.fit(X_small_train, y_small_train)\n",
    "clf.set_params(**gs.best_params_)\n",
    "clf.fit(X_train, y_train)\n",
    "\n",
    "print 'Final Training Accuracy:',clf.score(X_train,y_train)\n",
    "print 'Final Testing Accuracy:',clf.score(X_test,y_test)\n"
   ]
  },
  {
   "cell_type": "markdown",
   "metadata": {},
   "source": [
    "# Figures"
   ]
  },
  {
   "cell_type": "markdown",
   "metadata": {},
   "source": [
    "### Visualize spread of prESTs across different proteins using original dataframe\n",
    "***Note: Filtered for 25/75th percentile***"
   ]
  },
  {
   "cell_type": "code",
   "execution_count": 80,
   "metadata": {
    "collapsed": false
   },
   "outputs": [
    {
     "data": {
      "text/html": [
       "<div>\n",
       "<table border=\"1\" class=\"dataframe\">\n",
       "  <thead>\n",
       "    <tr style=\"text-align: right;\">\n",
       "      <th></th>\n",
       "      <th>prest_id</th>\n",
       "      <th>pf_cultivation_id</th>\n",
       "      <th>cultivation_nr</th>\n",
       "      <th>protocol</th>\n",
       "      <th>pf_fraction_name</th>\n",
       "      <th>pf_fraction_volume</th>\n",
       "      <th>cultivation_nr.1</th>\n",
       "      <th>nt_seq</th>\n",
       "      <th>aa_seq</th>\n",
       "      <th>uniprot_id</th>\n",
       "      <th>...</th>\n",
       "      <th>ss8_coil</th>\n",
       "      <th>acc_frac</th>\n",
       "      <th>out_gravy</th>\n",
       "      <th>in_gravy</th>\n",
       "      <th>acc_hydrophobic_out</th>\n",
       "      <th>acc_hydrophobic_in</th>\n",
       "      <th>acc_hydrophilic_out</th>\n",
       "      <th>acc_hydrophilic_in</th>\n",
       "      <th>status</th>\n",
       "      <th>expressed?</th>\n",
       "    </tr>\n",
       "  </thead>\n",
       "  <tbody>\n",
       "    <tr>\n",
       "      <th>1</th>\n",
       "      <td>140099</td>\n",
       "      <td>18994</td>\n",
       "      <td>3</td>\n",
       "      <td>A</td>\n",
       "      <td>CF/AF</td>\n",
       "      <td>500/700/1300</td>\n",
       "      <td>1</td>\n",
       "      <td>GACAAGCTTGCGGCCGCAACCTACTATGCCTGGAAGCATGAGCTGC...</td>\n",
       "      <td>TYYAWKHELLGSGTCPALPPREVLGMEELEKLPEEQVAEEELECSA...</td>\n",
       "      <td>G3V537</td>\n",
       "      <td>...</td>\n",
       "      <td>0.423611</td>\n",
       "      <td>0.638889</td>\n",
       "      <td>-0.747917</td>\n",
       "      <td>0.378472</td>\n",
       "      <td>0.215278</td>\n",
       "      <td>0.263889</td>\n",
       "      <td>0.291667</td>\n",
       "      <td>0.069444</td>\n",
       "      <td>Train</td>\n",
       "      <td>0</td>\n",
       "    </tr>\n",
       "    <tr>\n",
       "      <th>2</th>\n",
       "      <td>140225</td>\n",
       "      <td>18997</td>\n",
       "      <td>3</td>\n",
       "      <td>A</td>\n",
       "      <td>CF/AF</td>\n",
       "      <td>500/700/1300</td>\n",
       "      <td>1</td>\n",
       "      <td>GACAAGCTTGCGGCCGCATCACTCCATGCCAGACCCCCACAGTTTA...</td>\n",
       "      <td>SLHARPPQFTRAQWFAIQHISLNPPRCTIAMRAINNYRWRCKNQNT...</td>\n",
       "      <td>P12724</td>\n",
       "      <td>...</td>\n",
       "      <td>0.235294</td>\n",
       "      <td>0.588235</td>\n",
       "      <td>-0.994853</td>\n",
       "      <td>0.360294</td>\n",
       "      <td>0.176471</td>\n",
       "      <td>0.323529</td>\n",
       "      <td>0.323529</td>\n",
       "      <td>0.066176</td>\n",
       "      <td>Train</td>\n",
       "      <td>0</td>\n",
       "    </tr>\n",
       "    <tr>\n",
       "      <th>10</th>\n",
       "      <td>140500</td>\n",
       "      <td>19006</td>\n",
       "      <td>3</td>\n",
       "      <td>A</td>\n",
       "      <td>CF/AF</td>\n",
       "      <td>500/700/1300</td>\n",
       "      <td>1</td>\n",
       "      <td>GACAAGCTTGCGGCCGCAATGCAACAGCCTCCACCTCAGAAAGTTC...</td>\n",
       "      <td>MQQPPPQKVRINLQQQPPPLQIKSVPLPTLKMQTTLVPPTVESSPE...</td>\n",
       "      <td>C9J919</td>\n",
       "      <td>...</td>\n",
       "      <td>0.607143</td>\n",
       "      <td>0.700000</td>\n",
       "      <td>-0.905000</td>\n",
       "      <td>0.487143</td>\n",
       "      <td>0.178571</td>\n",
       "      <td>0.242857</td>\n",
       "      <td>0.364286</td>\n",
       "      <td>0.042857</td>\n",
       "      <td>Train</td>\n",
       "      <td>0</td>\n",
       "    </tr>\n",
       "    <tr>\n",
       "      <th>11</th>\n",
       "      <td>140587</td>\n",
       "      <td>19007</td>\n",
       "      <td>3</td>\n",
       "      <td>A</td>\n",
       "      <td>CF/AF</td>\n",
       "      <td>500/700/1300</td>\n",
       "      <td>1</td>\n",
       "      <td>GACAAGCTTGCGGCCGCACTCAGTGCAGTCGCTGCCACAAAAAGTC...</td>\n",
       "      <td>LSAVAATKSPIIFIGTGEHIDDFEPFKTQPFISKLLGMGDIEGLID...</td>\n",
       "      <td>A0A0D9SFN7</td>\n",
       "      <td>...</td>\n",
       "      <td>0.212389</td>\n",
       "      <td>0.566372</td>\n",
       "      <td>-1.092920</td>\n",
       "      <td>0.917699</td>\n",
       "      <td>0.123894</td>\n",
       "      <td>0.345133</td>\n",
       "      <td>0.327434</td>\n",
       "      <td>0.061947</td>\n",
       "      <td>Train</td>\n",
       "      <td>0</td>\n",
       "    </tr>\n",
       "    <tr>\n",
       "      <th>14</th>\n",
       "      <td>140607</td>\n",
       "      <td>18442</td>\n",
       "      <td>3</td>\n",
       "      <td>A</td>\n",
       "      <td>CF/AF</td>\n",
       "      <td>500/700/1300</td>\n",
       "      <td>1</td>\n",
       "      <td>CAGAATGACATCATGTTATTGCAGCTGAGCAGAAGAGTCAGACGGA...</td>\n",
       "      <td>NDIMLLQLSRRVRRNRNVNPVALPRAQEGLRPGTLCTVAGWGRVSM...</td>\n",
       "      <td>P08311</td>\n",
       "      <td>...</td>\n",
       "      <td>0.306122</td>\n",
       "      <td>0.448980</td>\n",
       "      <td>-0.879592</td>\n",
       "      <td>0.382313</td>\n",
       "      <td>0.095238</td>\n",
       "      <td>0.340136</td>\n",
       "      <td>0.299320</td>\n",
       "      <td>0.122449</td>\n",
       "      <td>Train</td>\n",
       "      <td>0</td>\n",
       "    </tr>\n",
       "  </tbody>\n",
       "</table>\n",
       "<p>5 rows × 182 columns</p>\n",
       "</div>"
      ],
      "text/plain": [
       "    prest_id  pf_cultivation_id  cultivation_nr protocol pf_fraction_name  \\\n",
       "1     140099              18994               3        A            CF/AF   \n",
       "2     140225              18997               3        A            CF/AF   \n",
       "10    140500              19006               3        A            CF/AF   \n",
       "11    140587              19007               3        A            CF/AF   \n",
       "14    140607              18442               3        A            CF/AF   \n",
       "\n",
       "   pf_fraction_volume  cultivation_nr.1  \\\n",
       "1        500/700/1300                 1   \n",
       "2        500/700/1300                 1   \n",
       "10       500/700/1300                 1   \n",
       "11       500/700/1300                 1   \n",
       "14       500/700/1300                 1   \n",
       "\n",
       "                                               nt_seq  \\\n",
       "1   GACAAGCTTGCGGCCGCAACCTACTATGCCTGGAAGCATGAGCTGC...   \n",
       "2   GACAAGCTTGCGGCCGCATCACTCCATGCCAGACCCCCACAGTTTA...   \n",
       "10  GACAAGCTTGCGGCCGCAATGCAACAGCCTCCACCTCAGAAAGTTC...   \n",
       "11  GACAAGCTTGCGGCCGCACTCAGTGCAGTCGCTGCCACAAAAAGTC...   \n",
       "14  CAGAATGACATCATGTTATTGCAGCTGAGCAGAAGAGTCAGACGGA...   \n",
       "\n",
       "                                               aa_seq  uniprot_id     ...      \\\n",
       "1   TYYAWKHELLGSGTCPALPPREVLGMEELEKLPEEQVAEEELECSA...      G3V537     ...       \n",
       "2   SLHARPPQFTRAQWFAIQHISLNPPRCTIAMRAINNYRWRCKNQNT...      P12724     ...       \n",
       "10  MQQPPPQKVRINLQQQPPPLQIKSVPLPTLKMQTTLVPPTVESSPE...      C9J919     ...       \n",
       "11  LSAVAATKSPIIFIGTGEHIDDFEPFKTQPFISKLLGMGDIEGLID...  A0A0D9SFN7     ...       \n",
       "14  NDIMLLQLSRRVRRNRNVNPVALPRAQEGLRPGTLCTVAGWGRVSM...      P08311     ...       \n",
       "\n",
       "    ss8_coil  acc_frac  out_gravy  in_gravy  acc_hydrophobic_out  \\\n",
       "1   0.423611  0.638889  -0.747917  0.378472             0.215278   \n",
       "2   0.235294  0.588235  -0.994853  0.360294             0.176471   \n",
       "10  0.607143  0.700000  -0.905000  0.487143             0.178571   \n",
       "11  0.212389  0.566372  -1.092920  0.917699             0.123894   \n",
       "14  0.306122  0.448980  -0.879592  0.382313             0.095238   \n",
       "\n",
       "    acc_hydrophobic_in acc_hydrophilic_out acc_hydrophilic_in  status  \\\n",
       "1             0.263889            0.291667           0.069444   Train   \n",
       "2             0.323529            0.323529           0.066176   Train   \n",
       "10            0.242857            0.364286           0.042857   Train   \n",
       "11            0.345133            0.327434           0.061947   Train   \n",
       "14            0.340136            0.299320           0.122449   Train   \n",
       "\n",
       "    expressed?  \n",
       "1            0  \n",
       "2            0  \n",
       "10           0  \n",
       "11           0  \n",
       "14           0  \n",
       "\n",
       "[5 rows x 182 columns]"
      ]
     },
     "execution_count": 80,
     "metadata": {},
     "output_type": "execute_result"
    }
   ],
   "source": [
    "DF_prest_final.head()"
   ]
  },
  {
   "cell_type": "code",
   "execution_count": 81,
   "metadata": {
    "collapsed": false
   },
   "outputs": [],
   "source": [
    "# Create feature dataframe for test group\n",
    "DF_retro = DF_prest_final[DF_prest_final.status == 'Test'][aa_features+disorder_features+phys_features+rna_features+ss_features+['aa_seq','prest_id','uniprot_id','conc_cf']]\n",
    "DF_retro_features = DF_retro.drop(['aa_seq','prest_id','uniprot_id','conc_cf'],1)"
   ]
  },
  {
   "cell_type": "code",
   "execution_count": 82,
   "metadata": {
    "collapsed": false
   },
   "outputs": [
    {
     "name": "stdout",
     "output_type": "stream",
     "text": [
      "2    3118\n",
      "3    1267\n",
      "4     374\n",
      "dtype: int64\n"
     ]
    }
   ],
   "source": [
    "pie_var = DF_retro.groupby('uniprot_id').count().groupby('prest_id').count().aa_seq\n",
    "pie_var = pd.Series(np.array(pie_var),index=range(2,len(pie_var)+2))\n",
    "print pie_var"
   ]
  },
  {
   "cell_type": "code",
   "execution_count": 84,
   "metadata": {
    "collapsed": false
   },
   "outputs": [
    {
     "data": {
      "text/plain": [
       "<matplotlib.text.Text at 0x7f2b9d3d4d90>"
      ]
     },
     "execution_count": 84,
     "metadata": {},
     "output_type": "execute_result"
    },
    {
     "data": {
      "image/png": "[encoded data removed]",
      "text/plain": [
       "<matplotlib.figure.Figure at 0x7f2b9626d750>"
      ]
     },
     "metadata": {},
     "output_type": "display_data"
    }
   ],
   "source": [
    "pie = (pie_var).plot(kind='pie',fontsize=12,figsize=(5,5))\n",
    "pie.set_ylabel('')\n",
    "pie.set_title('Number of prESTs per uniprot ID')\n",
    "#plt.savefig(FIGURE_DIR+'pie_chart.svg',transparent=True,format='svg')"
   ]
  },
  {
   "cell_type": "markdown",
   "metadata": {},
   "source": [
    "#### Get classifier score and true score"
   ]
  },
  {
   "cell_type": "code",
   "execution_count": 85,
   "metadata": {
    "collapsed": false
   },
   "outputs": [],
   "source": [
    "DF_retro.loc[:,'score'] = clf.predict_proba(DF_retro_features)[:,1]"
   ]
  },
  {
   "cell_type": "code",
   "execution_count": 86,
   "metadata": {
    "collapsed": false
   },
   "outputs": [
    {
     "data": {
      "text/html": [
       "<div>\n",
       "<table border=\"1\" class=\"dataframe\">\n",
       "  <thead>\n",
       "    <tr style=\"text-align: right;\">\n",
       "      <th></th>\n",
       "      <th>prest_id</th>\n",
       "      <th>uniprot_id</th>\n",
       "      <th>conc_cf</th>\n",
       "      <th>score</th>\n",
       "      <th>aa_seq</th>\n",
       "    </tr>\n",
       "  </thead>\n",
       "  <tbody>\n",
       "    <tr>\n",
       "      <th>0</th>\n",
       "      <td>3020371</td>\n",
       "      <td>X6RKY7</td>\n",
       "      <td>7.7892</td>\n",
       "      <td>0.577033</td>\n",
       "      <td>AEFRCFVKENKLIGISQRDYTQYYDHISKQKEEIRRCIQDFFKKHI...</td>\n",
       "    </tr>\n",
       "    <tr>\n",
       "      <th>1</th>\n",
       "      <td>3020373</td>\n",
       "      <td>X6RKY7</td>\n",
       "      <td>7.4948</td>\n",
       "      <td>0.609387</td>\n",
       "      <td>KEHVLHCQFSAWYPFFRGVTIKSVILPLPQNVKDYLLDDGTLVVSG...</td>\n",
       "    </tr>\n",
       "    <tr>\n",
       "      <th>2</th>\n",
       "      <td>2730004</td>\n",
       "      <td>X6RKQ2</td>\n",
       "      <td>3.2687</td>\n",
       "      <td>0.400956</td>\n",
       "      <td>TGGAFKGFKGLVVPSGGGRFSGFGSGAGGKPLEGLSNGNNITSAPP...</td>\n",
       "    </tr>\n",
       "    <tr>\n",
       "      <th>3</th>\n",
       "      <td>2730001</td>\n",
       "      <td>X6RKQ2</td>\n",
       "      <td>11.6530</td>\n",
       "      <td>0.621477</td>\n",
       "      <td>EGDSGECKGGDEEENDEPPKVVVTEVKEEDAFYSKKCKLFYKKDNE...</td>\n",
       "    </tr>\n",
       "    <tr>\n",
       "      <th>4</th>\n",
       "      <td>2730002</td>\n",
       "      <td>X6RKQ2</td>\n",
       "      <td>7.2990</td>\n",
       "      <td>0.496275</td>\n",
       "      <td>GSTKLQQESTFLFHGNKTEDTPDKKMEVASEKKTDPSSLGATSASF...</td>\n",
       "    </tr>\n",
       "  </tbody>\n",
       "</table>\n",
       "</div>"
      ],
      "text/plain": [
       "   prest_id uniprot_id  conc_cf     score  \\\n",
       "0   3020371     X6RKY7   7.7892  0.577033   \n",
       "1   3020373     X6RKY7   7.4948  0.609387   \n",
       "2   2730004     X6RKQ2   3.2687  0.400956   \n",
       "3   2730001     X6RKQ2  11.6530  0.621477   \n",
       "4   2730002     X6RKQ2   7.2990  0.496275   \n",
       "\n",
       "                                              aa_seq  \n",
       "0  AEFRCFVKENKLIGISQRDYTQYYDHISKQKEEIRRCIQDFFKKHI...  \n",
       "1  KEHVLHCQFSAWYPFFRGVTIKSVILPLPQNVKDYLLDDGTLVVSG...  \n",
       "2  TGGAFKGFKGLVVPSGGGRFSGFGSGAGGKPLEGLSNGNNITSAPP...  \n",
       "3  EGDSGECKGGDEEENDEPPKVVVTEVKEEDAFYSKKCKLFYKKDNE...  \n",
       "4  GSTKLQQESTFLFHGNKTEDTPDKKMEVASEKKTDPSSLGATSASF...  "
      ]
     },
     "execution_count": 86,
     "metadata": {},
     "output_type": "execute_result"
    }
   ],
   "source": [
    "DF_retro_final = DF_retro[['prest_id','uniprot_id','conc_cf','score','aa_seq']].sort_values('uniprot_id',ascending=0).reset_index(drop=True)\n",
    "DF_retro_final.head()"
   ]
  },
  {
   "cell_type": "code",
   "execution_count": 87,
   "metadata": {
    "collapsed": false
   },
   "outputs": [
    {
     "data": {
      "text/plain": [
       "4261"
      ]
     },
     "execution_count": 87,
     "metadata": {},
     "output_type": "execute_result"
    }
   ],
   "source": [
    "len(DF_retro_final[(DF_retro_final.score > .5) & (DF_retro_final.conc_cf > val_no_expr)])"
   ]
  },
  {
   "cell_type": "code",
   "execution_count": 88,
   "metadata": {
    "collapsed": false
   },
   "outputs": [
    {
     "data": {
      "text/plain": [
       "1418"
      ]
     },
     "execution_count": 88,
     "metadata": {},
     "output_type": "execute_result"
    }
   ],
   "source": [
    "len(DF_retro_final[(DF_retro_final.score < .5) & (DF_retro_final.conc_cf > val_no_expr)])"
   ]
  },
  {
   "cell_type": "code",
   "execution_count": 89,
   "metadata": {
    "collapsed": false
   },
   "outputs": [
    {
     "data": {
      "text/plain": [
       "2224"
      ]
     },
     "execution_count": 89,
     "metadata": {},
     "output_type": "execute_result"
    }
   ],
   "source": [
    "len(DF_retro_final[(DF_retro_final.score > .5) & (DF_retro_final.conc_cf < val_no_expr)])"
   ]
  },
  {
   "cell_type": "code",
   "execution_count": 90,
   "metadata": {
    "collapsed": false
   },
   "outputs": [
    {
     "data": {
      "text/plain": [
       "3629"
      ]
     },
     "execution_count": 90,
     "metadata": {},
     "output_type": "execute_result"
    }
   ],
   "source": [
    "len(DF_retro_final[(DF_retro_final.score < .5) & (DF_retro_final.conc_cf < val_no_expr)])"
   ]
  },
  {
   "cell_type": "code",
   "execution_count": 91,
   "metadata": {
    "collapsed": false
   },
   "outputs": [
    {
     "data": {
      "text/plain": [
       "<matplotlib.axes._subplots.AxesSubplot at 0x7f2b74cc9350>"
      ]
     },
     "execution_count": 91,
     "metadata": {},
     "output_type": "execute_result"
    },
    {
     "data": {
      "image/png": "[encoded data removed]",
      "text/plain": [
       "<matplotlib.figure.Figure at 0x7f2babd8e7d0>"
      ]
     },
     "metadata": {},
     "output_type": "display_data"
    }
   ],
   "source": [
    "DF_retro_final.plot(kind='scatter',x='conc_cf',y='score')"
   ]
  },
  {
   "cell_type": "markdown",
   "metadata": {},
   "source": [
    "### Original Data Statistics"
   ]
  },
  {
   "cell_type": "code",
   "execution_count": 92,
   "metadata": {
    "collapsed": false
   },
   "outputs": [
    {
     "name": "stdout",
     "output_type": "stream",
     "text": [
      "Original total number of experiments: 11533\n",
      "Original total number of proteins: 4759\n"
     ]
    }
   ],
   "source": [
    "print 'Original total number of experiments:',len(DF_retro_final)\n",
    "print 'Original total number of proteins:',len(DF_retro_final.uniprot_id.unique())"
   ]
  },
  {
   "cell_type": "code",
   "execution_count": 93,
   "metadata": {
    "collapsed": false
   },
   "outputs": [
    {
     "name": "stdout",
     "output_type": "stream",
     "text": [
      "Number of passed experiments: 5680\n",
      "Pass rate: 49.25%\n",
      "Number of proteins with >1 high expression: 3572\n"
     ]
    }
   ],
   "source": [
    "print 'Number of passed experiments:',len(DF_retro_final[DF_retro_final.conc_cf > val_no_expr])\n",
    "print 'Pass rate: %.2f%%'%(np.true_divide(len(DF_retro_final[DF_retro_final.conc_cf > val_no_expr]),len(DF_retro_final))*100)\n",
    "print 'Number of proteins with >1 high expression:',len(DF_retro_final[DF_retro_final.conc_cf > val_no_expr].uniprot_id.unique())"
   ]
  },
  {
   "cell_type": "markdown",
   "metadata": {},
   "source": [
    "### Grab only the top predicted prESTs for each protein"
   ]
  },
  {
   "cell_type": "code",
   "execution_count": 103,
   "metadata": {
    "collapsed": false
   },
   "outputs": [
    {
     "name": "stdout",
     "output_type": "stream",
     "text": [
      "Iteration 0\n",
      "Total number of proposed experiments: 4759\n",
      "Total number of expressed proteins: 2925\n",
      "Overall pass rate: 0.614624921202\n",
      "Random:\n",
      "Total number of proposed experiments: 4759\n",
      "Total number of expressed proteins: 2353\n",
      "Randomized pass rate: 0.494431603278\n",
      "\n",
      "Percent saved experiments: 0.0 %\n",
      "\n",
      "Iteration 1\n",
      "Total number of proposed experiments: 6593\n",
      "Total number of expressed proteins: 3487\n",
      "Overall pass rate: 0.528894281814\n",
      "Random:\n",
      "Total number of proposed experiments: 7165\n",
      "Total number of expressed proteins: 3389\n",
      "Randomized pass rate: 0.47299371947\n",
      "\n",
      "Percent saved experiments: 7.98325191905 %\n",
      "\n",
      "Iteration 2\n",
      "Total number of proposed experiments: 7012\n",
      "Total number of expressed proteins: 3564\n",
      "Overall pass rate: 0.508271534512\n",
      "Random:\n",
      "Total number of proposed experiments: 7682\n",
      "Total number of expressed proteins: 3552\n",
      "Randomized pass rate: 0.462379588649\n",
      "\n",
      "Percent saved experiments: 8.72168706066 %\n",
      "\n",
      "Iteration 3\n",
      "Total number of proposed experiments: 7095\n",
      "Total number of expressed proteins: 3572\n",
      "Overall pass rate: 0.503453136011\n",
      "Random:\n",
      "Total number of proposed experiments: 7777\n",
      "Total number of expressed proteins: 3572\n",
      "Randomized pass rate: 0.459303073164\n",
      "\n",
      "Percent saved experiments: 8.76944837341 %\n",
      "\n",
      "Iteration 4\n",
      "Total number of proposed experiments: 7095\n",
      "Total number of expressed proteins: 3572\n",
      "Overall pass rate: 0.503453136011\n",
      "Random:\n",
      "Total number of proposed experiments: 7777\n",
      "Total number of expressed proteins: 3572\n",
      "Randomized pass rate: 0.459303073164\n",
      "\n",
      "Percent saved experiments: 8.76944837341 %\n",
      "\n"
     ]
    }
   ],
   "source": [
    "n = 5\n",
    "np.random.seed(0)\n",
    "\n",
    "output_df = pd.DataFrame(columns=['prest_id','uniprot_id','conc_cf','score','aa_seq'])\n",
    "output_rand_df = pd.DataFrame(columns=['prest_id','uniprot_id','conc_cf','score','aa_seq'])\n",
    "remaining_df = DF_retro_final.copy()\n",
    "remaining_rand_df = DF_retro_final.set_index(np.random.permutation(DF_retro_final.index)).sort_index()\n",
    "\n",
    "for i in range(n):\n",
    "    print 'Iteration',i\n",
    "    new_output_df = remaining_df.sort_values(['uniprot_id','score'],ascending=[1,0]).drop_duplicates('uniprot_id')\n",
    "    new_output_rand_df = remaining_rand_df.drop_duplicates('uniprot_id')\n",
    "    output_df = pd.concat([output_df,new_output_df])\n",
    "    output_rand_df = pd.concat([output_rand_df,new_output_rand_df])\n",
    "   \n",
    "    pred_pos_proteins = set(output_df[output_df.score > 0.5].uniprot_id)\n",
    "    true_pos_proteins = set(output_df[output_df.conc_cf > val_no_expr].uniprot_id)\n",
    "    true_rand_proteins = set(output_rand_df[output_rand_df.conc_cf > val_no_expr].uniprot_id)\n",
    "    print 'Total number of proposed experiments:',len(output_df)\n",
    "    print 'Total number of expressed proteins:',len(true_pos_proteins)\n",
    "    print 'Overall pass rate:',np.true_divide(len(true_pos_proteins),len(output_df))\n",
    "    print 'Random:'\n",
    "    print 'Total number of proposed experiments:',len(output_rand_df)\n",
    "    print 'Total number of expressed proteins:',len(true_rand_proteins)\n",
    "    print 'Randomized pass rate:',np.true_divide(len(true_rand_proteins),len(output_rand_df))\n",
    "    print\n",
    "    print 'Percent saved experiments:',(1-np.true_divide(len(output_df),len(output_rand_df)))*100,'%'\n",
    "    \n",
    "    # Prepare for next iteration\n",
    "    remaining_df = remaining_df.drop(new_output_df.index)\n",
    "    remaining_df = remaining_df[remaining_df.uniprot_id.isin(true_pos_proteins)==False]\n",
    "    remaining_rand_df = remaining_rand_df.drop(new_output_rand_df.index)\n",
    "    remaining_rand_df = remaining_rand_df[remaining_rand_df.uniprot_id.isin(true_rand_proteins)==False]\n",
    "    print"
   ]
  },
  {
   "cell_type": "markdown",
   "metadata": {},
   "source": [
    "# Other calcs"
   ]
  },
  {
   "cell_type": "markdown",
   "metadata": {},
   "source": [
    "### Show that probability expressed relates to true expression value"
   ]
  },
  {
   "cell_type": "code",
   "execution_count": 95,
   "metadata": {
    "collapsed": false
   },
   "outputs": [],
   "source": [
    "probs = pd.Series(clf.predict_proba(X_test)[:,1])"
   ]
  },
  {
   "cell_type": "code",
   "execution_count": 96,
   "metadata": {
    "collapsed": false
   },
   "outputs": [
    {
     "name": "stdout",
     "output_type": "stream",
     "text": [
      "0.0586433649605\n",
      "0.924938677854\n"
     ]
    }
   ],
   "source": [
    "print min(probs)\n",
    "print max(probs)"
   ]
  },
  {
   "cell_type": "code",
   "execution_count": 97,
   "metadata": {
    "collapsed": false
   },
   "outputs": [],
   "source": [
    "true_count,bins = np.histogram(probs[y_test==True],bins=np.arange(-2,2,.1))\n",
    "false_count,bins = np.histogram(probs[y_test==False],bins=np.arange(-2,2,.1))"
   ]
  },
  {
   "cell_type": "code",
   "execution_count": 98,
   "metadata": {
    "collapsed": false
   },
   "outputs": [],
   "source": [
    "true_frac = np.true_divide(true_count,(true_count + false_count))\n",
    "false_frac = np.true_divide(false_count,(true_count + false_count))"
   ]
  },
  {
   "cell_type": "code",
   "execution_count": 99,
   "metadata": {
    "collapsed": false
   },
   "outputs": [
    {
     "data": {
      "text/plain": [
       "<matplotlib.text.Text at 0x7f2b74b47490>"
      ]
     },
     "execution_count": 99,
     "metadata": {},
     "output_type": "execute_result"
    },
    {
     "data": {
      "image/png": "[encoded data removed]",
      "text/plain": [
       "<matplotlib.figure.Figure at 0x7f2b9d3fc090>"
      ]
     },
     "metadata": {},
     "output_type": "display_data"
    }
   ],
   "source": [
    "p1 = plt.bar(np.arange(-2,1.9,.1), true_count, color='r',label='High Expression',width=0.1)\n",
    "p2 = plt.bar(np.arange(-2,1.9,.1), false_count, color='y',bottom=true_count,label='Low Expression',width=0.1)\n",
    "plt.legend()\n",
    "#plt.xticks(np.arange(10)-.05,np.arange(0,1.1,.1));\n",
    "plt.xlabel('Probability of Expression')\n",
    "plt.ylabel('Count')"
   ]
  },
  {
   "cell_type": "code",
   "execution_count": 100,
   "metadata": {
    "collapsed": false
   },
   "outputs": [
    {
     "data": {
      "text/plain": [
       "<matplotlib.text.Text at 0x7f2b9c1a9890>"
      ]
     },
     "execution_count": 100,
     "metadata": {},
     "output_type": "execute_result"
    },
    {
     "data": {
      "image/png": "[encoded data removed]",
      "text/plain": [
       "<matplotlib.figure.Figure at 0x7f2b9c236210>"
      ]
     },
     "metadata": {},
     "output_type": "display_data"
    }
   ],
   "source": [
    "p1 = plt.bar(np.arange(-2,1.9,.1), true_frac, color='r',label='High Expression',width=0.1)\n",
    "p2 = plt.bar(np.arange(-2,1.9,.1), false_frac, color='y',bottom=true_frac,label='Low Expression',width=0.1)\n",
    "plt.legend()\n",
    "plt.xlabel('Probability of Expression')\n",
    "plt.ylabel('Fraction')"
   ]
  },
  {
   "cell_type": "markdown",
   "metadata": {},
   "source": [
    "### Choose best prEST in each group"
   ]
  },
  {
   "cell_type": "code",
   "execution_count": 101,
   "metadata": {
    "collapsed": false
   },
   "outputs": [
    {
     "ename": "AttributeError",
     "evalue": "'RandomForestClassifier' object has no attribute 'decision_function'",
     "output_type": "error",
     "traceback": [
      "\u001b[1;31m---------------------------------------------------------------------------\u001b[0m",
      "\u001b[1;31mAttributeError\u001b[0m                            Traceback (most recent call last)",
      "\u001b[1;32m<ipython-input-101-25f2d74749f9>\u001b[0m in \u001b[0;36m<module>\u001b[1;34m()\u001b[0m\n\u001b[1;32m----> 1\u001b[1;33m \u001b[0mDF_test\u001b[0m\u001b[1;33m[\u001b[0m\u001b[1;34m'proba'\u001b[0m\u001b[1;33m]\u001b[0m \u001b[1;33m=\u001b[0m \u001b[0mclf\u001b[0m\u001b[1;33m.\u001b[0m\u001b[0mdecision_function\u001b[0m\u001b[1;33m(\u001b[0m\u001b[0mX_test\u001b[0m\u001b[1;33m)\u001b[0m\u001b[1;33m\u001b[0m\u001b[0m\n\u001b[0m\u001b[0;32m      2\u001b[0m \u001b[0mDF_test\u001b[0m\u001b[1;33m[\u001b[0m\u001b[1;34m'true_value'\u001b[0m\u001b[1;33m]\u001b[0m \u001b[1;33m=\u001b[0m \u001b[0my_test\u001b[0m\u001b[1;33m\u001b[0m\u001b[0m\n\u001b[0;32m      3\u001b[0m \u001b[1;32mprint\u001b[0m \u001b[0mlen\u001b[0m\u001b[1;33m(\u001b[0m\u001b[0mDF_test\u001b[0m\u001b[1;33m)\u001b[0m\u001b[1;33m\u001b[0m\u001b[0m\n\u001b[0;32m      4\u001b[0m \u001b[0mDF_test\u001b[0m\u001b[1;33m.\u001b[0m\u001b[0mhead\u001b[0m\u001b[1;33m(\u001b[0m\u001b[1;33m)\u001b[0m\u001b[1;33m\u001b[0m\u001b[0m\n",
      "\u001b[1;32m/home/anand/.virtualenvs/main/local/lib/python2.7/site-packages/sklearn/utils/metaestimators.pyc\u001b[0m in \u001b[0;36m__get__\u001b[1;34m(self, obj, type)\u001b[0m\n\u001b[0;32m     33\u001b[0m             \u001b[1;31m# delegate only on instances, not the classes.\u001b[0m\u001b[1;33m\u001b[0m\u001b[1;33m\u001b[0m\u001b[0m\n\u001b[0;32m     34\u001b[0m             \u001b[1;31m# this is to allow access to the docstrings.\u001b[0m\u001b[1;33m\u001b[0m\u001b[1;33m\u001b[0m\u001b[0m\n\u001b[1;32m---> 35\u001b[1;33m             \u001b[0mself\u001b[0m\u001b[1;33m.\u001b[0m\u001b[0mget_attribute\u001b[0m\u001b[1;33m(\u001b[0m\u001b[0mobj\u001b[0m\u001b[1;33m)\u001b[0m\u001b[1;33m\u001b[0m\u001b[0m\n\u001b[0m\u001b[0;32m     36\u001b[0m         \u001b[1;31m# lambda, but not partial, allows help() to work with update_wrapper\u001b[0m\u001b[1;33m\u001b[0m\u001b[1;33m\u001b[0m\u001b[0m\n\u001b[0;32m     37\u001b[0m         \u001b[0mout\u001b[0m \u001b[1;33m=\u001b[0m \u001b[1;32mlambda\u001b[0m \u001b[1;33m*\u001b[0m\u001b[0margs\u001b[0m\u001b[1;33m,\u001b[0m \u001b[1;33m**\u001b[0m\u001b[0mkwargs\u001b[0m\u001b[1;33m:\u001b[0m \u001b[0mself\u001b[0m\u001b[1;33m.\u001b[0m\u001b[0mfn\u001b[0m\u001b[1;33m(\u001b[0m\u001b[0mobj\u001b[0m\u001b[1;33m,\u001b[0m \u001b[1;33m*\u001b[0m\u001b[0margs\u001b[0m\u001b[1;33m,\u001b[0m \u001b[1;33m**\u001b[0m\u001b[0mkwargs\u001b[0m\u001b[1;33m)\u001b[0m\u001b[1;33m\u001b[0m\u001b[0m\n",
      "\u001b[1;31mAttributeError\u001b[0m: 'RandomForestClassifier' object has no attribute 'decision_function'"
     ]
    }
   ],
   "source": [
    "DF_test['proba'] = clf.decision_function(X_test)\n",
    "DF_test['true_value'] = y_test\n",
    "print len(DF_test)\n",
    "DF_test.head()"
   ]
  },
  {
   "cell_type": "code",
   "execution_count": null,
   "metadata": {
    "collapsed": false
   },
   "outputs": [],
   "source": [
    "temp_df = DF_test.sort_values('true_value',ascending=0).drop_duplicates('uniprot_id')\n",
    "print 'Number of total proteins:', len(DF_test)\n",
    "print 'Number of total expressed proteins:', len(DF_test[DF_test['true_value'] == 1])\n",
    "print 'Number of proteins tested:', len(temp_df)\n",
    "print 'Number of proteins that have >1 expressed prEST:', len(temp_df[temp_df['true_value'] == 1])\n",
    "expressed_uniprots = temp_df[temp_df['true_value'] == 1].uniprot_id.tolist()\n",
    "expressed_prESTs = DF_test[DF_test['true_value'] == 1].prest_id.tolist()"
   ]
  },
  {
   "cell_type": "markdown",
   "metadata": {},
   "source": [
    "### Get the top choices"
   ]
  },
  {
   "cell_type": "code",
   "execution_count": null,
   "metadata": {
    "collapsed": false
   },
   "outputs": [],
   "source": [
    "top_choices = np.zeros(5)\n",
    "for name,group in DF_test.groupby('uniprot_id'):\n",
    "    top_choices = np.vstack([top_choices, group.sort_values('proba',ascending=0)[:2][['uniprot_id','prest_id','proba','conc_cf','true_value']].values])\n",
    "DF_top_choices = pd.DataFrame(top_choices[1:,:],columns=['uniprot_id','prest_id','proba','conc_cf','true_value'])"
   ]
  },
  {
   "cell_type": "code",
   "execution_count": null,
   "metadata": {
    "collapsed": false
   },
   "outputs": [],
   "source": [
    "print 'Number of experiments:',len(DF_top_choices)\n",
    "DF_top_choices.head()"
   ]
  },
  {
   "cell_type": "code",
   "execution_count": null,
   "metadata": {
    "collapsed": false
   },
   "outputs": [],
   "source": [
    "temp_df = DF_top_choices.sort_values('true_value',ascending=0).drop_duplicates('uniprot_id')\n",
    "print 'Number of total expressed proteins:', len(DF_test[DF_test['true_value'] == 1])\n",
    "print 'Number of proteins tested:', len(temp_df)\n",
    "print 'Number of proteins that have >1 expressed prEST:', len(temp_df[temp_df['true_value'] == 1])"
   ]
  },
  {
   "cell_type": "code",
   "execution_count": null,
   "metadata": {
    "collapsed": false
   },
   "outputs": [],
   "source": [
    "pred_pos = len(DF_top_choices[(DF_top_choices.proba > 0)])\n",
    "true_pos = len(DF_top_choices[(DF_top_choices.true_value == 1)])\n",
    "real_pos = 0\n",
    "\n",
    "print 'Total number of theoretical experiments:',len(DF_test)\n",
    "print 'Total number of proteins:',len(DF_test.uniprot_id.unique())\n",
    "print 'Number of experiments with high predicted expression:',pred_pos\n",
    "print 'Number of experiments that are true positives:',true_pos\n",
    "print 'Number of extra experiments:', len(DF_test) - pred_pos"
   ]
  },
  {
   "cell_type": "code",
   "execution_count": null,
   "metadata": {
    "collapsed": false
   },
   "outputs": [],
   "source": [
    "from matplotlib_venn import venn2\n",
    "\n",
    "pred_pos = len(DF_top_choices[DF_top_choices.proba > .5])\n",
    "real_pos = len(DF_top_choices[DF_top_choices.true_value == 1])\n",
    "true_pos = len(DF_top_choices[(DF_top_choices.proba > .5) & (DF_top_choices.true_value == 1)])\n",
    "\n",
    "print 'Number of proteins with predicted high expression prESTs:', pred_pos\n",
    "print 'Number of proteins with actual high expression prESTs:', true_pos\n",
    "print 'Intersection:', true_pos\n",
    "print 'Precision:',np.true_divide(true_pos,pred_pos)\n",
    "v = venn2(subsets=(pred_pos-true_pos,real_pos-true_pos,true_pos), set_labels=('', ''))\n",
    "plt.savefig(FIGURE_DIR+'venn.svg',transparent=True,format='svg')"
   ]
  },
  {
   "cell_type": "code",
   "execution_count": null,
   "metadata": {
    "collapsed": false
   },
   "outputs": [],
   "source": [
    "663-(222+355+20)"
   ]
  },
  {
   "cell_type": "code",
   "execution_count": null,
   "metadata": {
    "collapsed": true
   },
   "outputs": [],
   "source": []
  }
 ],
 "metadata": {
  "kernelspec": {
   "display_name": "Python 2",
   "language": "python",
   "name": "python2"
  },
  "language_info": {
   "codemirror_mode": {
    "name": "ipython",
    "version": 2
   },
   "file_extension": ".py",
   "mimetype": "text/x-python",
   "name": "python",
   "nbconvert_exporter": "python",
   "pygments_lexer": "ipython2",
   "version": "2.7.12"
  }
 },
 "nbformat": 4,
 "nbformat_minor": 0
}
